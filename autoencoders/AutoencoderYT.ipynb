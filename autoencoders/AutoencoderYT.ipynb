{
  "nbformat": 4,
  "nbformat_minor": 0,
  "metadata": {
    "colab": {
      "provenance": [],
      "authorship_tag": "ABX9TyPLRFYRbz8T0Cv+avPHUB8c",
      "include_colab_link": true
    },
    "kernelspec": {
      "name": "python3",
      "display_name": "Python 3"
    },
    "language_info": {
      "name": "python"
    },
    "widgets": {
      "application/vnd.jupyter.widget-state+json": {
        "45ba596b3e454360bbd0aad07fe6143c": {
          "model_module": "@jupyter-widgets/controls",
          "model_name": "HBoxModel",
          "model_module_version": "1.5.0",
          "state": {
            "_dom_classes": [],
            "_model_module": "@jupyter-widgets/controls",
            "_model_module_version": "1.5.0",
            "_model_name": "HBoxModel",
            "_view_count": null,
            "_view_module": "@jupyter-widgets/controls",
            "_view_module_version": "1.5.0",
            "_view_name": "HBoxView",
            "box_style": "",
            "children": [
              "IPY_MODEL_4a10cc162eef4386b1f50469aeff1de3",
              "IPY_MODEL_5c4271c6834e471e8f71bf2347750bd8",
              "IPY_MODEL_4e9a56aee5c94ede986f5aa9d8bfc9f1"
            ],
            "layout": "IPY_MODEL_0bad3d70c7b241f3b2979bc04647dc66"
          }
        },
        "4a10cc162eef4386b1f50469aeff1de3": {
          "model_module": "@jupyter-widgets/controls",
          "model_name": "HTMLModel",
          "model_module_version": "1.5.0",
          "state": {
            "_dom_classes": [],
            "_model_module": "@jupyter-widgets/controls",
            "_model_module_version": "1.5.0",
            "_model_name": "HTMLModel",
            "_view_count": null,
            "_view_module": "@jupyter-widgets/controls",
            "_view_module_version": "1.5.0",
            "_view_name": "HTMLView",
            "description": "",
            "description_tooltip": null,
            "layout": "IPY_MODEL_b075031362964a11a775d7bacb2be8df",
            "placeholder": "​",
            "style": "IPY_MODEL_457c9e26b2ed43dfadecd8370868e82d",
            "value": "100%"
          }
        },
        "5c4271c6834e471e8f71bf2347750bd8": {
          "model_module": "@jupyter-widgets/controls",
          "model_name": "FloatProgressModel",
          "model_module_version": "1.5.0",
          "state": {
            "_dom_classes": [],
            "_model_module": "@jupyter-widgets/controls",
            "_model_module_version": "1.5.0",
            "_model_name": "FloatProgressModel",
            "_view_count": null,
            "_view_module": "@jupyter-widgets/controls",
            "_view_module_version": "1.5.0",
            "_view_name": "ProgressView",
            "bar_style": "success",
            "description": "",
            "description_tooltip": null,
            "layout": "IPY_MODEL_9537f5177ddb4633a062e4f3b1756d0e",
            "max": 20,
            "min": 0,
            "orientation": "horizontal",
            "style": "IPY_MODEL_9349c7f4488d4b799bfed0c5d2b7a363",
            "value": 20
          }
        },
        "4e9a56aee5c94ede986f5aa9d8bfc9f1": {
          "model_module": "@jupyter-widgets/controls",
          "model_name": "HTMLModel",
          "model_module_version": "1.5.0",
          "state": {
            "_dom_classes": [],
            "_model_module": "@jupyter-widgets/controls",
            "_model_module_version": "1.5.0",
            "_model_name": "HTMLModel",
            "_view_count": null,
            "_view_module": "@jupyter-widgets/controls",
            "_view_module_version": "1.5.0",
            "_view_name": "HTMLView",
            "description": "",
            "description_tooltip": null,
            "layout": "IPY_MODEL_67a5d4b193cd4a1facaede72bb231c7e",
            "placeholder": "​",
            "style": "IPY_MODEL_f4204172b9a3402996c9694b226e53d9",
            "value": " 20/20 [01:09&lt;00:00,  3.25s/it]"
          }
        },
        "0bad3d70c7b241f3b2979bc04647dc66": {
          "model_module": "@jupyter-widgets/base",
          "model_name": "LayoutModel",
          "model_module_version": "1.2.0",
          "state": {
            "_model_module": "@jupyter-widgets/base",
            "_model_module_version": "1.2.0",
            "_model_name": "LayoutModel",
            "_view_count": null,
            "_view_module": "@jupyter-widgets/base",
            "_view_module_version": "1.2.0",
            "_view_name": "LayoutView",
            "align_content": null,
            "align_items": null,
            "align_self": null,
            "border": null,
            "bottom": null,
            "display": null,
            "flex": null,
            "flex_flow": null,
            "grid_area": null,
            "grid_auto_columns": null,
            "grid_auto_flow": null,
            "grid_auto_rows": null,
            "grid_column": null,
            "grid_gap": null,
            "grid_row": null,
            "grid_template_areas": null,
            "grid_template_columns": null,
            "grid_template_rows": null,
            "height": null,
            "justify_content": null,
            "justify_items": null,
            "left": null,
            "margin": null,
            "max_height": null,
            "max_width": null,
            "min_height": null,
            "min_width": null,
            "object_fit": null,
            "object_position": null,
            "order": null,
            "overflow": null,
            "overflow_x": null,
            "overflow_y": null,
            "padding": null,
            "right": null,
            "top": null,
            "visibility": null,
            "width": null
          }
        },
        "b075031362964a11a775d7bacb2be8df": {
          "model_module": "@jupyter-widgets/base",
          "model_name": "LayoutModel",
          "model_module_version": "1.2.0",
          "state": {
            "_model_module": "@jupyter-widgets/base",
            "_model_module_version": "1.2.0",
            "_model_name": "LayoutModel",
            "_view_count": null,
            "_view_module": "@jupyter-widgets/base",
            "_view_module_version": "1.2.0",
            "_view_name": "LayoutView",
            "align_content": null,
            "align_items": null,
            "align_self": null,
            "border": null,
            "bottom": null,
            "display": null,
            "flex": null,
            "flex_flow": null,
            "grid_area": null,
            "grid_auto_columns": null,
            "grid_auto_flow": null,
            "grid_auto_rows": null,
            "grid_column": null,
            "grid_gap": null,
            "grid_row": null,
            "grid_template_areas": null,
            "grid_template_columns": null,
            "grid_template_rows": null,
            "height": null,
            "justify_content": null,
            "justify_items": null,
            "left": null,
            "margin": null,
            "max_height": null,
            "max_width": null,
            "min_height": null,
            "min_width": null,
            "object_fit": null,
            "object_position": null,
            "order": null,
            "overflow": null,
            "overflow_x": null,
            "overflow_y": null,
            "padding": null,
            "right": null,
            "top": null,
            "visibility": null,
            "width": null
          }
        },
        "457c9e26b2ed43dfadecd8370868e82d": {
          "model_module": "@jupyter-widgets/controls",
          "model_name": "DescriptionStyleModel",
          "model_module_version": "1.5.0",
          "state": {
            "_model_module": "@jupyter-widgets/controls",
            "_model_module_version": "1.5.0",
            "_model_name": "DescriptionStyleModel",
            "_view_count": null,
            "_view_module": "@jupyter-widgets/base",
            "_view_module_version": "1.2.0",
            "_view_name": "StyleView",
            "description_width": ""
          }
        },
        "9537f5177ddb4633a062e4f3b1756d0e": {
          "model_module": "@jupyter-widgets/base",
          "model_name": "LayoutModel",
          "model_module_version": "1.2.0",
          "state": {
            "_model_module": "@jupyter-widgets/base",
            "_model_module_version": "1.2.0",
            "_model_name": "LayoutModel",
            "_view_count": null,
            "_view_module": "@jupyter-widgets/base",
            "_view_module_version": "1.2.0",
            "_view_name": "LayoutView",
            "align_content": null,
            "align_items": null,
            "align_self": null,
            "border": null,
            "bottom": null,
            "display": null,
            "flex": null,
            "flex_flow": null,
            "grid_area": null,
            "grid_auto_columns": null,
            "grid_auto_flow": null,
            "grid_auto_rows": null,
            "grid_column": null,
            "grid_gap": null,
            "grid_row": null,
            "grid_template_areas": null,
            "grid_template_columns": null,
            "grid_template_rows": null,
            "height": null,
            "justify_content": null,
            "justify_items": null,
            "left": null,
            "margin": null,
            "max_height": null,
            "max_width": null,
            "min_height": null,
            "min_width": null,
            "object_fit": null,
            "object_position": null,
            "order": null,
            "overflow": null,
            "overflow_x": null,
            "overflow_y": null,
            "padding": null,
            "right": null,
            "top": null,
            "visibility": null,
            "width": null
          }
        },
        "9349c7f4488d4b799bfed0c5d2b7a363": {
          "model_module": "@jupyter-widgets/controls",
          "model_name": "ProgressStyleModel",
          "model_module_version": "1.5.0",
          "state": {
            "_model_module": "@jupyter-widgets/controls",
            "_model_module_version": "1.5.0",
            "_model_name": "ProgressStyleModel",
            "_view_count": null,
            "_view_module": "@jupyter-widgets/base",
            "_view_module_version": "1.2.0",
            "_view_name": "StyleView",
            "bar_color": null,
            "description_width": ""
          }
        },
        "67a5d4b193cd4a1facaede72bb231c7e": {
          "model_module": "@jupyter-widgets/base",
          "model_name": "LayoutModel",
          "model_module_version": "1.2.0",
          "state": {
            "_model_module": "@jupyter-widgets/base",
            "_model_module_version": "1.2.0",
            "_model_name": "LayoutModel",
            "_view_count": null,
            "_view_module": "@jupyter-widgets/base",
            "_view_module_version": "1.2.0",
            "_view_name": "LayoutView",
            "align_content": null,
            "align_items": null,
            "align_self": null,
            "border": null,
            "bottom": null,
            "display": null,
            "flex": null,
            "flex_flow": null,
            "grid_area": null,
            "grid_auto_columns": null,
            "grid_auto_flow": null,
            "grid_auto_rows": null,
            "grid_column": null,
            "grid_gap": null,
            "grid_row": null,
            "grid_template_areas": null,
            "grid_template_columns": null,
            "grid_template_rows": null,
            "height": null,
            "justify_content": null,
            "justify_items": null,
            "left": null,
            "margin": null,
            "max_height": null,
            "max_width": null,
            "min_height": null,
            "min_width": null,
            "object_fit": null,
            "object_position": null,
            "order": null,
            "overflow": null,
            "overflow_x": null,
            "overflow_y": null,
            "padding": null,
            "right": null,
            "top": null,
            "visibility": null,
            "width": null
          }
        },
        "f4204172b9a3402996c9694b226e53d9": {
          "model_module": "@jupyter-widgets/controls",
          "model_name": "DescriptionStyleModel",
          "model_module_version": "1.5.0",
          "state": {
            "_model_module": "@jupyter-widgets/controls",
            "_model_module_version": "1.5.0",
            "_model_name": "DescriptionStyleModel",
            "_view_count": null,
            "_view_module": "@jupyter-widgets/base",
            "_view_module_version": "1.2.0",
            "_view_name": "StyleView",
            "description_width": ""
          }
        }
      }
    }
  },
  "cells": [
    {
      "cell_type": "markdown",
      "metadata": {
        "id": "view-in-github",
        "colab_type": "text"
      },
      "source": [
        "<a href=\"https://colab.research.google.com/github/QuantumQist/Kawa_w_Teorii/blob/main/AutoencoderYT.ipynb\" target=\"_parent\"><img src=\"https://colab.research.google.com/assets/colab-badge.svg\" alt=\"Open In Colab\"/></a>"
      ]
    },
    {
      "cell_type": "markdown",
      "source": [
        "# 1. Import dependencies"
      ],
      "metadata": {
        "id": "1kBCNoZpwE-d"
      }
    },
    {
      "cell_type": "code",
      "source": [
        "import torch, torchvision\n",
        "from torch import nn\n",
        "from tqdm.auto import tqdm\n",
        "import matplotlib.pyplot as plt\n",
        "import random\n",
        "\n",
        "import plotly.express as px\n",
        "import pandas as pd"
      ],
      "metadata": {
        "id": "DxaU7PrNwP72"
      },
      "execution_count": null,
      "outputs": []
    },
    {
      "cell_type": "markdown",
      "source": [
        "# 2. Prepare the data\n",
        "\n",
        "Data: 0, 1 and 2 numbers from MNIST dataset."
      ],
      "metadata": {
        "id": "LSgUIVrOwLfB"
      }
    },
    {
      "cell_type": "code",
      "source": [
        "%%capture\n",
        "\n",
        "# Import MNIST\n",
        "train_data = torchvision.datasets.MNIST(\n",
        "    root = 'data',\n",
        "    train = True,\n",
        "    transform = torchvision.transforms.ToTensor(),\n",
        "    download = True\n",
        ")\n",
        "test_data = torchvision.datasets.MNIST(\n",
        "    root = 'data',\n",
        "    train = False,\n",
        "    transform = torchvision.transforms.ToTensor(),\n",
        "    download = True\n",
        ")"
      ],
      "metadata": {
        "id": "wa7WG7HLwVMo"
      },
      "execution_count": null,
      "outputs": []
    },
    {
      "cell_type": "code",
      "source": [
        "# Pick target labels\n",
        "target_labels = torch.tensor([0,1,2])\n",
        "\n",
        "# Prepare masks\n",
        "train_target_mask = torch.isin(train_data.targets, target_labels)\n",
        "test_target_mask = torch.isin(test_data.targets, target_labels)\n",
        "\n",
        "# Prepare data subsets\n",
        "masked_train_data = torch.utils.data.Subset(train_data, torch.where(train_target_mask)[0])\n",
        "masked_test_data = torch.utils.data.Subset(test_data, torch.where(test_target_mask)[0])"
      ],
      "metadata": {
        "id": "FZq9bAdfEPP-"
      },
      "execution_count": null,
      "outputs": []
    },
    {
      "cell_type": "code",
      "source": [
        "BATCH_SIZE = 64\n",
        "\n",
        "# Prepare dataloaders\n",
        "train_dataloader = torch.utils.data.DataLoader(\n",
        "    dataset = masked_train_data,\n",
        "    batch_size = BATCH_SIZE,\n",
        "    shuffle = True,\n",
        "    drop_last = True\n",
        ")\n",
        "test_dataloader = torch.utils.data.DataLoader(\n",
        "    dataset = masked_test_data,\n",
        "    batch_size = BATCH_SIZE,\n",
        "    shuffle = True,\n",
        "    drop_last = True\n",
        ")"
      ],
      "metadata": {
        "id": "OtzgePWgMHMj"
      },
      "execution_count": null,
      "outputs": []
    },
    {
      "cell_type": "code",
      "source": [
        "IDX = 67\n",
        "image, label = masked_train_data[IDX]\n",
        "\n",
        "image = image.squeeze().numpy()\n",
        "plt.imshow(image, cmap=\"gray\")\n",
        "plt.axis(False)\n",
        "plt.show()"
      ],
      "metadata": {
        "colab": {
          "base_uri": "https://localhost:8080/",
          "height": 406
        },
        "id": "kbV9eqLW7aLD",
        "outputId": "dee1d5b7-dc0e-447c-f26f-477877886455"
      },
      "execution_count": null,
      "outputs": [
        {
          "output_type": "display_data",
          "data": {
            "text/plain": [
              "<Figure size 640x480 with 1 Axes>"
            ],
            "image/png": "[encoded data removed]"
          },
          "metadata": {}
        }
      ]
    },
    {
      "cell_type": "markdown",
      "source": [
        "# 3. Prepare the model."
      ],
      "metadata": {
        "id": "2krX9BAj48Mr"
      }
    },
    {
      "cell_type": "code",
      "source": [
        "class AutoEncoder(nn.Module):\n",
        "    def __init__(self):\n",
        "        super(AutoEncoder, self).__init__()\n",
        "\n",
        "        self.encoder = nn.Sequential(\n",
        "            nn.Flatten(),\n",
        "            nn.Linear(784, 128),\n",
        "            nn.GELU(),\n",
        "            nn.Linear(128, 64),\n",
        "            nn.GELU(),\n",
        "            nn.Linear(64, 16),\n",
        "            nn.GELU(),\n",
        "            nn.Linear(16, 3)\n",
        "        )\n",
        "\n",
        "        self.decoder = nn.Sequential(\n",
        "            nn.Linear(3, 16),\n",
        "            nn.GELU(),\n",
        "            nn.Linear(16,64),\n",
        "            nn.GELU(),\n",
        "            nn.Linear(64, 128),\n",
        "            nn.GELU(),\n",
        "            nn.Linear(128,784),\n",
        "            nn.Sigmoid()\n",
        "        )\n",
        "\n",
        "    def forward(self, x):\n",
        "        encoded = self.encoder(x)\n",
        "        decoded = self.decoder(encoded)\n",
        "        return torch.reshape(decoded, x.shape)"
      ],
      "metadata": {
        "id": "8J4XXN8g5Af8"
      },
      "execution_count": null,
      "outputs": []
    },
    {
      "cell_type": "code",
      "source": [
        "# Setup new network\n",
        "model = AutoEncoder()"
      ],
      "metadata": {
        "id": "4fEpQ9vG_kmM"
      },
      "execution_count": null,
      "outputs": []
    },
    {
      "cell_type": "markdown",
      "source": [
        "# 4. Evaluate the untrained model\n",
        "\n",
        "* Plot autoencoder output\n",
        "\n",
        "* Encoder output for test dataset."
      ],
      "metadata": {
        "id": "Y9TFgXO-wQca"
      }
    },
    {
      "cell_type": "code",
      "source": [
        "def plot_output(model, dataset, idx):\n",
        "    \"\"\"\n",
        "    Plots the input image from the provided dataset and the output of the model.\n",
        "    \"\"\"\n",
        "    model.eval()\n",
        "\n",
        "    image, label = dataset[idx]\n",
        "\n",
        "    fig, axs = plt.subplots(1, 2)\n",
        "    axs[0].imshow(image.squeeze().numpy(), cmap = \"gray\")\n",
        "\n",
        "    with torch.inference_mode():\n",
        "        output = model(image)\n",
        "\n",
        "    axs[1].imshow(output.squeeze().numpy(), cmap = \"gray\")\n",
        "\n",
        "    axs[0].set_title(\"Input\")\n",
        "    axs[1].set_title(\"Output\")\n",
        "\n",
        "    for i in range(2):\n",
        "        axs[i].axis(False)\n",
        "\n",
        "    plt.show()"
      ],
      "metadata": {
        "id": "DK0IQbPtwVnR"
      },
      "execution_count": null,
      "outputs": []
    },
    {
      "cell_type": "code",
      "source": [
        "plot_output(model, masked_test_data, 42)"
      ],
      "metadata": {
        "id": "6AHJMSbASuDC",
        "colab": {
          "base_uri": "https://localhost:8080/",
          "height": 284
        },
        "outputId": "c6239eeb-d0e7-452e-9b83-c13579a3c171"
      },
      "execution_count": null,
      "outputs": [
        {
          "output_type": "display_data",
          "data": {
            "text/plain": [
              "<Figure size 640x480 with 2 Axes>"
            ],
            "image/png": "[encoded data removed]"
          },
          "metadata": {}
        }
      ]
    },
    {
      "cell_type": "code",
      "source": [
        "def plot_encoder_output(model, dataset, num_elements = 200):\n",
        "    \"\"\"\n",
        "    Plots an interactive 3D plot of the encoder's output.\n",
        "\n",
        "    Parameters:\n",
        "    - model - model of the auotencoder\n",
        "    - dataset - data used for evaluation\n",
        "    - num_elements - number of input images to be evaluated\n",
        "    \"\"\"\n",
        "    model.eval()\n",
        "\n",
        "    encoded_data = []\n",
        "    labels = []\n",
        "\n",
        "    for idx in range(num_elements):\n",
        "        image, label = dataset[idx]\n",
        "\n",
        "        with torch.inference_mode():\n",
        "            encoded = model.encoder(image)\n",
        "\n",
        "        encoded_data.append( encoded.squeeze().numpy() )\n",
        "        labels.append(str(label))\n",
        "\n",
        "    df = pd.DataFrame(encoded_data, columns = ['x', 'y', 'z'])\n",
        "    df['label'] = labels\n",
        "\n",
        "    fig = px.scatter_3d(df, x = 'x', y = 'y', z = 'z', color = df['label'],\n",
        "                        opacity = 0.2, width = 800, height = 800)\n",
        "    fig.show()"
      ],
      "metadata": {
        "id": "B1V9qFnxUGnJ"
      },
      "execution_count": null,
      "outputs": []
    },
    {
      "cell_type": "code",
      "source": [
        "plot_encoder_output(model, masked_test_data)"
      ],
      "metadata": {
        "colab": {
          "base_uri": "https://localhost:8080/",
          "height": 817
        },
        "id": "v9VveI6bDaUM",
        "outputId": "756481be-9def-482f-88cb-7fab8d604116"
      },
      "execution_count": null,
      "outputs": [
        {
          "output_type": "display_data",
          "data": {
            "text/html": [
              "<html>\n",
              "<head><meta charset=\"utf-8\" /></head>\n",
              "<body>\n",
              "    <div>            <script src=\"https://cdnjs.cloudflare.com/ajax/libs/mathjax/2.7.5/MathJax.js?config=TeX-AMS-MML_SVG\"></script><script type=\"text/javascript\">if (window.MathJax && window.MathJax.Hub && window.MathJax.Hub.Config) {window.MathJax.Hub.Config({SVG: {font: \"STIX-Web\"}});}</script>                <script type=\"text/javascript\">window.PlotlyConfig = {MathJaxConfig: 'local'};</script>\n",
              "        <script charset=\"utf-8\" src=\"https://cdn.plot.ly/plotly-2.35.2.min.js\"></script>                <div id=\"80dbb2f0-d935-4d86-827c-2e3c0400635a\" class=\"plotly-graph-div\" style=\"height:800px; width:800px;\"></div>            <script type=\"text/javascript\">                                    window.PLOTLYENV=window.PLOTLYENV || {};                                    if (document.getElementById(\"80dbb2f0-d935-4d86-827c-2e3c0400635a\")) {                    Plotly.newPlot(                        \"80dbb2f0-d935-4d86-827c-2e3c0400635a\",                        [{\"hovertemplate\":\"label=2\\u003cbr\\u003ex=%{x}\\u003cbr\\u003ey=%{y}\\u003cbr\\u003ez=%{z}\\u003cextra\\u003e\\u003c\\u002fextra\\u003e\",\"legendgroup\":\"2\",\"marker\":{\"color\":\"#636efa\",\"opacity\":0.2,\"symbol\":\"circle\"},\"mode\":\"markers\",\"name\":\"2\",\"scene\":\"scene\",\"showlegend\":true,\"x\":[0.15609369,0.15195064,0.15887752,0.15548937,0.15949818,0.15575394,0.15782493,0.1601962,0.15761468,0.15599181,0.15756187,0.15636681,0.15619773,0.16122201,0.163998,0.16255519,0.15823463,0.16505799,0.16345493,0.1513869,0.16257997,0.1576571,0.15628792,0.15978745,0.1603847,0.15977103,0.16036631,0.15919156,0.16416343,0.1558946,0.16605385,0.15410733,0.15649997,0.1587916,0.16145119,0.15954357,0.1611532,0.15870708,0.15703166,0.15915899,0.1591584,0.16274343,0.16291736,0.1592075,0.15670171,0.15949745,0.16052726,0.15077013,0.16304743,0.15951979,0.16072926,0.15681013,0.16259627,0.15580817,0.15194076,0.16234244,0.15940379,0.1648436,0.1582801,0.15458636,0.16168252,0.15573134,0.1623956,0.15834026,0.15845343,0.16219144,0.15728846,0.15840305,0.14769773],\"y\":[0.102173075,0.105220795,0.10256305,0.107041866,0.1129834,0.09747133,0.10007654,0.114650615,0.10685253,0.10088793,0.11691265,0.103428155,0.10840751,0.10979898,0.10394561,0.10616825,0.11818458,0.11030959,0.107652806,0.10731563,0.09565739,0.11314572,0.10221162,0.10216973,0.10311408,0.10981369,0.11049544,0.10435441,0.0990516,0.10811465,0.10636216,0.108430974,0.101793356,0.105882786,0.09685048,0.1001323,0.108297,0.100466505,0.101066485,0.09911618,0.1052838,0.101180434,0.110116266,0.11336498,0.10793266,0.10074317,0.111102395,0.100043714,0.09971213,0.10006659,0.10595649,0.09803355,0.09535899,0.107181534,0.103153236,0.115698025,0.09708342,0.09816562,0.11540071,0.09737252,0.108960696,0.10336059,0.10243542,0.10540581,0.10370743,0.099690765,0.100228235,0.10559259,0.10396688],\"z\":[-0.16441752,-0.16970657,-0.16820939,-0.16893388,-0.16897734,-0.17389113,-0.17144386,-0.17163688,-0.16991326,-0.1699352,-0.16639669,-0.1677092,-0.16825867,-0.17170388,-0.17372233,-0.17235485,-0.17161503,-0.16790791,-0.16787234,-0.1699542,-0.1784933,-0.16984105,-0.16529825,-0.17333624,-0.17389598,-0.17371562,-0.16929977,-0.17329608,-0.17891762,-0.16470422,-0.16858728,-0.16780402,-0.16677797,-0.17046428,-0.17456055,-0.17335965,-0.17090744,-0.17268588,-0.1707565,-0.17211555,-0.1688481,-0.17612095,-0.16952191,-0.1705378,-0.17107545,-0.17400718,-0.17230089,-0.16767141,-0.1744797,-0.169171,-0.17070135,-0.17096101,-0.1732957,-0.17093846,-0.16244769,-0.16929844,-0.17043191,-0.17194,-0.16650634,-0.16888386,-0.1695217,-0.1673667,-0.1736868,-0.16900799,-0.17204374,-0.1698088,-0.16893035,-0.17109692,-0.15976802],\"type\":\"scatter3d\"},{\"hovertemplate\":\"label=1\\u003cbr\\u003ex=%{x}\\u003cbr\\u003ey=%{y}\\u003cbr\\u003ez=%{z}\\u003cextra\\u003e\\u003c\\u002fextra\\u003e\",\"legendgroup\":\"1\",\"marker\":{\"color\":\"#EF553B\",\"opacity\":0.2,\"symbol\":\"circle\"},\"mode\":\"markers\",\"name\":\"1\",\"scene\":\"scene\",\"showlegend\":true,\"x\":[0.15427385,0.15476273,0.15681171,0.16067165,0.15676388,0.15753487,0.15830147,0.15722601,0.15593584,0.15409258,0.15475859,0.15461738,0.16114308,0.1559876,0.1546784,0.15511043,0.15776858,0.15631564,0.15820944,0.15510114,0.16044676,0.15779029,0.15682866,0.15583959,0.1562091,0.15621282,0.15778075,0.15591432,0.15600148,0.15918091,0.15496576,0.15548243,0.1569563,0.15710542,0.15945509,0.15894999,0.1590807,0.15851419,0.15588793,0.15562303,0.15430637,0.15962827,0.15822951,0.15726201,0.15681472,0.15611456,0.15676145,0.15782967,0.15509711,0.15810147,0.15755522,0.15433572,0.15449081,0.15822993,0.15701479,0.15536633,0.15421115,0.16108587,0.15494604,0.1577672,0.15941672,0.15450914,0.1546725,0.15880214,0.15596662,0.15502132,0.15314971,0.15332052,0.1555522,0.15442207,0.15806028,0.15562825,0.1573894,0.15990727,0.15944792],\"y\":[0.10212874,0.10103732,0.09834779,0.10234465,0.0988726,0.10275463,0.10115023,0.099327296,0.105655,0.1024269,0.10172529,0.10280758,0.103938386,0.10088221,0.103752494,0.10145727,0.10449963,0.10038738,0.10162132,0.09995518,0.10187286,0.09986061,0.10222491,0.099630155,0.1011159,0.10465109,0.102433294,0.10097097,0.10467251,0.099559665,0.10227024,0.10305171,0.10422054,0.10011503,0.0995207,0.1021238,0.10034679,0.09921746,0.099917315,0.09925586,0.10133125,0.10058385,0.102114044,0.10203985,0.10058365,0.10261082,0.103022374,0.10155658,0.10417663,0.10199646,0.10547832,0.10042209,0.098506704,0.1013847,0.10418955,0.10510255,0.096720845,0.10223103,0.10298455,0.09940864,0.10013146,0.103848286,0.10324406,0.10192174,0.101211935,0.10200615,0.102190495,0.1008232,0.10205597,0.10408418,0.10108686,0.102757,0.10161092,0.11022994,0.100090496],\"z\":[-0.16627266,-0.16703744,-0.1665562,-0.17306277,-0.17101823,-0.17100438,-0.16917944,-0.16869912,-0.16839957,-0.16702291,-0.16662852,-0.16811113,-0.17408812,-0.16852766,-0.16413195,-0.16801147,-0.16603158,-0.16761358,-0.17029066,-0.16853397,-0.17324926,-0.1686559,-0.17007768,-0.16892292,-0.16936715,-0.16718633,-0.17049439,-0.16699056,-0.16854402,-0.17191066,-0.16668843,-0.16718838,-0.16755201,-0.17009744,-0.17350852,-0.17173448,-0.17070061,-0.17108092,-0.16685633,-0.16915318,-0.1666202,-0.17202927,-0.17158595,-0.17035425,-0.16948983,-0.16873775,-0.16916862,-0.1687187,-0.16553351,-0.17133412,-0.16957104,-0.16796161,-0.16647916,-0.1696896,-0.16930296,-0.16854946,-0.16509281,-0.17426719,-0.1684615,-0.17079353,-0.17093177,-0.1675997,-0.16631243,-0.16949363,-0.16713224,-0.166314,-0.1663183,-0.16665004,-0.1679767,-0.16908714,-0.16999766,-0.16621074,-0.17031157,-0.16837615,-0.16979446],\"type\":\"scatter3d\"},{\"hovertemplate\":\"label=0\\u003cbr\\u003ex=%{x}\\u003cbr\\u003ey=%{y}\\u003cbr\\u003ez=%{z}\\u003cextra\\u003e\\u003c\\u002fextra\\u003e\",\"legendgroup\":\"0\",\"marker\":{\"color\":\"#00cc96\",\"opacity\":0.2,\"symbol\":\"circle\"},\"mode\":\"markers\",\"name\":\"0\",\"scene\":\"scene\",\"showlegend\":true,\"x\":[0.16345477,0.15767793,0.15795729,0.16865407,0.16084377,0.15790719,0.15847084,0.1617167,0.16088188,0.15826043,0.15744239,0.15955767,0.15926205,0.1589788,0.16838233,0.15517078,0.16089512,0.16362706,0.15982169,0.15459512,0.16475506,0.1590334,0.15807179,0.15891723,0.15849847,0.16489182,0.15846573,0.15675071,0.16004752,0.159366,0.15725969,0.16041733,0.1563397,0.1624087,0.15543874,0.16659904,0.15907572,0.16007762,0.1554859,0.1583803,0.16178162,0.15355955,0.15595609,0.15902849,0.1566738,0.1602232,0.15902543,0.15811814,0.16047324,0.1580529,0.15838492,0.16126812,0.16482905,0.15621549,0.1646557,0.15834202],\"y\":[0.094653375,0.10025275,0.09975742,0.09979746,0.10241398,0.10188828,0.10562681,0.10296929,0.10170495,0.10016997,0.10220088,0.099465504,0.09461136,0.10133885,0.101945154,0.098091066,0.09913256,0.10057056,0.10336414,0.096812785,0.10086594,0.10206364,0.10084651,0.10418982,0.11208408,0.10294761,0.096749805,0.10475859,0.098047465,0.09869226,0.10152453,0.10037738,0.10908033,0.101879455,0.10098215,0.10243607,0.09836992,0.09897181,0.0975588,0.099643305,0.108193405,0.101124875,0.0987778,0.09696441,0.1005217,0.09619579,0.09989438,0.09921988,0.101056434,0.09867484,0.0998293,0.10188954,0.105436176,0.10394779,0.09082939,0.102178715],\"z\":[-0.17103553,-0.17182666,-0.17199183,-0.17360717,-0.1680425,-0.16642621,-0.16956192,-0.17503956,-0.17162712,-0.17272277,-0.16834384,-0.16706535,-0.16644616,-0.16895212,-0.1726533,-0.16615243,-0.1697129,-0.17126313,-0.17442493,-0.16645782,-0.17370722,-0.16846794,-0.1720616,-0.16986714,-0.17094123,-0.17467116,-0.16681342,-0.1671529,-0.17009854,-0.16882598,-0.16825838,-0.17511052,-0.16519293,-0.17686988,-0.17328915,-0.17313549,-0.16587418,-0.17357944,-0.17363548,-0.16923892,-0.17089461,-0.16404977,-0.17003657,-0.17353275,-0.17308207,-0.16746004,-0.17115545,-0.16909733,-0.17118666,-0.1707246,-0.16994344,-0.17015715,-0.17199446,-0.17033543,-0.17354232,-0.16981529],\"type\":\"scatter3d\"}],                        {\"template\":{\"data\":{\"histogram2dcontour\":[{\"type\":\"histogram2dcontour\",\"colorbar\":{\"outlinewidth\":0,\"ticks\":\"\"},\"colorscale\":[[0.0,\"#0d0887\"],[0.1111111111111111,\"#46039f\"],[0.2222222222222222,\"#7201a8\"],[0.3333333333333333,\"#9c179e\"],[0.4444444444444444,\"#bd3786\"],[0.5555555555555556,\"#d8576b\"],[0.6666666666666666,\"#ed7953\"],[0.7777777777777778,\"#fb9f3a\"],[0.8888888888888888,\"#fdca26\"],[1.0,\"#f0f921\"]]}],\"choropleth\":[{\"type\":\"choropleth\",\"colorbar\":{\"outlinewidth\":0,\"ticks\":\"\"}}],\"histogram2d\":[{\"type\":\"histogram2d\",\"colorbar\":{\"outlinewidth\":0,\"ticks\":\"\"},\"colorscale\":[[0.0,\"#0d0887\"],[0.1111111111111111,\"#46039f\"],[0.2222222222222222,\"#7201a8\"],[0.3333333333333333,\"#9c179e\"],[0.4444444444444444,\"#bd3786\"],[0.5555555555555556,\"#d8576b\"],[0.6666666666666666,\"#ed7953\"],[0.7777777777777778,\"#fb9f3a\"],[0.8888888888888888,\"#fdca26\"],[1.0,\"#f0f921\"]]}],\"heatmap\":[{\"type\":\"heatmap\",\"colorbar\":{\"outlinewidth\":0,\"ticks\":\"\"},\"colorscale\":[[0.0,\"#0d0887\"],[0.1111111111111111,\"#46039f\"],[0.2222222222222222,\"#7201a8\"],[0.3333333333333333,\"#9c179e\"],[0.4444444444444444,\"#bd3786\"],[0.5555555555555556,\"#d8576b\"],[0.6666666666666666,\"#ed7953\"],[0.7777777777777778,\"#fb9f3a\"],[0.8888888888888888,\"#fdca26\"],[1.0,\"#f0f921\"]]}],\"heatmapgl\":[{\"type\":\"heatmapgl\",\"colorbar\":{\"outlinewidth\":0,\"ticks\":\"\"},\"colorscale\":[[0.0,\"#0d0887\"],[0.1111111111111111,\"#46039f\"],[0.2222222222222222,\"#7201a8\"],[0.3333333333333333,\"#9c179e\"],[0.4444444444444444,\"#bd3786\"],[0.5555555555555556,\"#d8576b\"],[0.6666666666666666,\"#ed7953\"],[0.7777777777777778,\"#fb9f3a\"],[0.8888888888888888,\"#fdca26\"],[1.0,\"#f0f921\"]]}],\"contourcarpet\":[{\"type\":\"contourcarpet\",\"colorbar\":{\"outlinewidth\":0,\"ticks\":\"\"}}],\"contour\":[{\"type\":\"contour\",\"colorbar\":{\"outlinewidth\":0,\"ticks\":\"\"},\"colorscale\":[[0.0,\"#0d0887\"],[0.1111111111111111,\"#46039f\"],[0.2222222222222222,\"#7201a8\"],[0.3333333333333333,\"#9c179e\"],[0.4444444444444444,\"#bd3786\"],[0.5555555555555556,\"#d8576b\"],[0.6666666666666666,\"#ed7953\"],[0.7777777777777778,\"#fb9f3a\"],[0.8888888888888888,\"#fdca26\"],[1.0,\"#f0f921\"]]}],\"surface\":[{\"type\":\"surface\",\"colorbar\":{\"outlinewidth\":0,\"ticks\":\"\"},\"colorscale\":[[0.0,\"#0d0887\"],[0.1111111111111111,\"#46039f\"],[0.2222222222222222,\"#7201a8\"],[0.3333333333333333,\"#9c179e\"],[0.4444444444444444,\"#bd3786\"],[0.5555555555555556,\"#d8576b\"],[0.6666666666666666,\"#ed7953\"],[0.7777777777777778,\"#fb9f3a\"],[0.8888888888888888,\"#fdca26\"],[1.0,\"#f0f921\"]]}],\"mesh3d\":[{\"type\":\"mesh3d\",\"colorbar\":{\"outlinewidth\":0,\"ticks\":\"\"}}],\"scatter\":[{\"fillpattern\":{\"fillmode\":\"overlay\",\"size\":10,\"solidity\":0.2},\"type\":\"scatter\"}],\"parcoords\":[{\"type\":\"parcoords\",\"line\":{\"colorbar\":{\"outlinewidth\":0,\"ticks\":\"\"}}}],\"scatterpolargl\":[{\"type\":\"scatterpolargl\",\"marker\":{\"colorbar\":{\"outlinewidth\":0,\"ticks\":\"\"}}}],\"bar\":[{\"error_x\":{\"color\":\"#2a3f5f\"},\"error_y\":{\"color\":\"#2a3f5f\"},\"marker\":{\"line\":{\"color\":\"#E5ECF6\",\"width\":0.5},\"pattern\":{\"fillmode\":\"overlay\",\"size\":10,\"solidity\":0.2}},\"type\":\"bar\"}],\"scattergeo\":[{\"type\":\"scattergeo\",\"marker\":{\"colorbar\":{\"outlinewidth\":0,\"ticks\":\"\"}}}],\"scatterpolar\":[{\"type\":\"scatterpolar\",\"marker\":{\"colorbar\":{\"outlinewidth\":0,\"ticks\":\"\"}}}],\"histogram\":[{\"marker\":{\"pattern\":{\"fillmode\":\"overlay\",\"size\":10,\"solidity\":0.2}},\"type\":\"histogram\"}],\"scattergl\":[{\"type\":\"scattergl\",\"marker\":{\"colorbar\":{\"outlinewidth\":0,\"ticks\":\"\"}}}],\"scatter3d\":[{\"type\":\"scatter3d\",\"line\":{\"colorbar\":{\"outlinewidth\":0,\"ticks\":\"\"}},\"marker\":{\"colorbar\":{\"outlinewidth\":0,\"ticks\":\"\"}}}],\"scattermapbox\":[{\"type\":\"scattermapbox\",\"marker\":{\"colorbar\":{\"outlinewidth\":0,\"ticks\":\"\"}}}],\"scatterternary\":[{\"type\":\"scatterternary\",\"marker\":{\"colorbar\":{\"outlinewidth\":0,\"ticks\":\"\"}}}],\"scattercarpet\":[{\"type\":\"scattercarpet\",\"marker\":{\"colorbar\":{\"outlinewidth\":0,\"ticks\":\"\"}}}],\"carpet\":[{\"aaxis\":{\"endlinecolor\":\"#2a3f5f\",\"gridcolor\":\"white\",\"linecolor\":\"white\",\"minorgridcolor\":\"white\",\"startlinecolor\":\"#2a3f5f\"},\"baxis\":{\"endlinecolor\":\"#2a3f5f\",\"gridcolor\":\"white\",\"linecolor\":\"white\",\"minorgridcolor\":\"white\",\"startlinecolor\":\"#2a3f5f\"},\"type\":\"carpet\"}],\"table\":[{\"cells\":{\"fill\":{\"color\":\"#EBF0F8\"},\"line\":{\"color\":\"white\"}},\"header\":{\"fill\":{\"color\":\"#C8D4E3\"},\"line\":{\"color\":\"white\"}},\"type\":\"table\"}],\"barpolar\":[{\"marker\":{\"line\":{\"color\":\"#E5ECF6\",\"width\":0.5},\"pattern\":{\"fillmode\":\"overlay\",\"size\":10,\"solidity\":0.2}},\"type\":\"barpolar\"}],\"pie\":[{\"automargin\":true,\"type\":\"pie\"}]},\"layout\":{\"autotypenumbers\":\"strict\",\"colorway\":[\"#636efa\",\"#EF553B\",\"#00cc96\",\"#ab63fa\",\"#FFA15A\",\"#19d3f3\",\"#FF6692\",\"#B6E880\",\"#FF97FF\",\"#FECB52\"],\"font\":{\"color\":\"#2a3f5f\"},\"hovermode\":\"closest\",\"hoverlabel\":{\"align\":\"left\"},\"paper_bgcolor\":\"white\",\"plot_bgcolor\":\"#E5ECF6\",\"polar\":{\"bgcolor\":\"#E5ECF6\",\"angularaxis\":{\"gridcolor\":\"white\",\"linecolor\":\"white\",\"ticks\":\"\"},\"radialaxis\":{\"gridcolor\":\"white\",\"linecolor\":\"white\",\"ticks\":\"\"}},\"ternary\":{\"bgcolor\":\"#E5ECF6\",\"aaxis\":{\"gridcolor\":\"white\",\"linecolor\":\"white\",\"ticks\":\"\"},\"baxis\":{\"gridcolor\":\"white\",\"linecolor\":\"white\",\"ticks\":\"\"},\"caxis\":{\"gridcolor\":\"white\",\"linecolor\":\"white\",\"ticks\":\"\"}},\"coloraxis\":{\"colorbar\":{\"outlinewidth\":0,\"ticks\":\"\"}},\"colorscale\":{\"sequential\":[[0.0,\"#0d0887\"],[0.1111111111111111,\"#46039f\"],[0.2222222222222222,\"#7201a8\"],[0.3333333333333333,\"#9c179e\"],[0.4444444444444444,\"#bd3786\"],[0.5555555555555556,\"#d8576b\"],[0.6666666666666666,\"#ed7953\"],[0.7777777777777778,\"#fb9f3a\"],[0.8888888888888888,\"#fdca26\"],[1.0,\"#f0f921\"]],\"sequentialminus\":[[0.0,\"#0d0887\"],[0.1111111111111111,\"#46039f\"],[0.2222222222222222,\"#7201a8\"],[0.3333333333333333,\"#9c179e\"],[0.4444444444444444,\"#bd3786\"],[0.5555555555555556,\"#d8576b\"],[0.6666666666666666,\"#ed7953\"],[0.7777777777777778,\"#fb9f3a\"],[0.8888888888888888,\"#fdca26\"],[1.0,\"#f0f921\"]],\"diverging\":[[0,\"#8e0152\"],[0.1,\"#c51b7d\"],[0.2,\"#de77ae\"],[0.3,\"#f1b6da\"],[0.4,\"#fde0ef\"],[0.5,\"#f7f7f7\"],[0.6,\"#e6f5d0\"],[0.7,\"#b8e186\"],[0.8,\"#7fbc41\"],[0.9,\"#4d9221\"],[1,\"#276419\"]]},\"xaxis\":{\"gridcolor\":\"white\",\"linecolor\":\"white\",\"ticks\":\"\",\"title\":{\"standoff\":15},\"zerolinecolor\":\"white\",\"automargin\":true,\"zerolinewidth\":2},\"yaxis\":{\"gridcolor\":\"white\",\"linecolor\":\"white\",\"ticks\":\"\",\"title\":{\"standoff\":15},\"zerolinecolor\":\"white\",\"automargin\":true,\"zerolinewidth\":2},\"scene\":{\"xaxis\":{\"backgroundcolor\":\"#E5ECF6\",\"gridcolor\":\"white\",\"linecolor\":\"white\",\"showbackground\":true,\"ticks\":\"\",\"zerolinecolor\":\"white\",\"gridwidth\":2},\"yaxis\":{\"backgroundcolor\":\"#E5ECF6\",\"gridcolor\":\"white\",\"linecolor\":\"white\",\"showbackground\":true,\"ticks\":\"\",\"zerolinecolor\":\"white\",\"gridwidth\":2},\"zaxis\":{\"backgroundcolor\":\"#E5ECF6\",\"gridcolor\":\"white\",\"linecolor\":\"white\",\"showbackground\":true,\"ticks\":\"\",\"zerolinecolor\":\"white\",\"gridwidth\":2}},\"shapedefaults\":{\"line\":{\"color\":\"#2a3f5f\"}},\"annotationdefaults\":{\"arrowcolor\":\"#2a3f5f\",\"arrowhead\":0,\"arrowwidth\":1},\"geo\":{\"bgcolor\":\"white\",\"landcolor\":\"#E5ECF6\",\"subunitcolor\":\"white\",\"showland\":true,\"showlakes\":true,\"lakecolor\":\"white\"},\"title\":{\"x\":0.05},\"mapbox\":{\"style\":\"light\"}}},\"scene\":{\"domain\":{\"x\":[0.0,1.0],\"y\":[0.0,1.0]},\"xaxis\":{\"title\":{\"text\":\"x\"}},\"yaxis\":{\"title\":{\"text\":\"y\"}},\"zaxis\":{\"title\":{\"text\":\"z\"}}},\"legend\":{\"title\":{\"text\":\"label\"},\"tracegroupgap\":0},\"margin\":{\"t\":60},\"height\":800,\"width\":800},                        {\"responsive\": true}                    ).then(function(){\n",
              "                            \n",
              "var gd = document.getElementById('80dbb2f0-d935-4d86-827c-2e3c0400635a');\n",
              "var x = new MutationObserver(function (mutations, observer) {{\n",
              "        var display = window.getComputedStyle(gd).display;\n",
              "        if (!display || display === 'none') {{\n",
              "            console.log([gd, 'removed!']);\n",
              "            Plotly.purge(gd);\n",
              "            observer.disconnect();\n",
              "        }}\n",
              "}});\n",
              "\n",
              "// Listen for the removal of the full notebook cells\n",
              "var notebookContainer = gd.closest('#notebook-container');\n",
              "if (notebookContainer) {{\n",
              "    x.observe(notebookContainer, {childList: true});\n",
              "}}\n",
              "\n",
              "// Listen for the clearing of the current output cell\n",
              "var outputEl = gd.closest('.output');\n",
              "if (outputEl) {{\n",
              "    x.observe(outputEl, {childList: true});\n",
              "}}\n",
              "\n",
              "                        })                };                            </script>        </div>\n",
              "</body>\n",
              "</html>"
            ]
          },
          "metadata": {}
        }
      ]
    },
    {
      "cell_type": "markdown",
      "source": [
        "# 5. Train the model"
      ],
      "metadata": {
        "id": "-gNCZwlwwXCu"
      }
    },
    {
      "cell_type": "code",
      "source": [
        "EPOCHS = 20\n",
        "\n",
        "# Setup new network\n",
        "model = AutoEncoder()\n",
        "\n",
        "loss_fn = nn.MSELoss()\n",
        "optimizer = torch.optim.Adam(model.parameters())\n",
        "\n",
        "train_loss, test_loss = [], []\n",
        "\n",
        "for epoch in tqdm(range(EPOCHS)):\n",
        "    epoch_train_loss, epoch_test_loss = 0, 0\n",
        "\n",
        "    # Training step\n",
        "    model.train()\n",
        "    for batch, (X, _) in enumerate(train_dataloader):\n",
        "        # Forward pass\n",
        "        output = model(X)\n",
        "        # Compute the loss\n",
        "        loss = loss_fn(output, X)\n",
        "        epoch_train_loss += loss.item()\n",
        "        # Zero gradients\n",
        "        optimizer.zero_grad()\n",
        "        # Backpropagation\n",
        "        loss.backward()\n",
        "        # Optimizer\n",
        "        optimizer.step()\n",
        "    train_loss.append(epoch_train_loss / len(train_dataloader))\n",
        "\n",
        "    # Test step\n",
        "    model.eval()\n",
        "    for batch, (X, _) in enumerate(test_dataloader):\n",
        "        # Forward pass\n",
        "        with torch.inference_mode():\n",
        "            output = model(X)\n",
        "        # Compute the loss\n",
        "        loss = loss_fn(output, X)\n",
        "        epoch_test_loss += loss.item()\n",
        "    test_loss.append( epoch_test_loss / len(test_dataloader))\n",
        "\n",
        "plt.plot(range(1, EPOCHS + 1), train_loss, label = \"train_loss\")\n",
        "plt.plot(range(1, EPOCHS + 1), test_loss, label = \"test_loss\")\n",
        "plt.legend()\n",
        "plt.show()"
      ],
      "metadata": {
        "id": "-k-2s9ngwagx",
        "colab": {
          "base_uri": "https://localhost:8080/",
          "height": 462,
          "referenced_widgets": [
            "45ba596b3e454360bbd0aad07fe6143c",
            "4a10cc162eef4386b1f50469aeff1de3",
            "5c4271c6834e471e8f71bf2347750bd8",
            "4e9a56aee5c94ede986f5aa9d8bfc9f1",
            "0bad3d70c7b241f3b2979bc04647dc66",
            "b075031362964a11a775d7bacb2be8df",
            "457c9e26b2ed43dfadecd8370868e82d",
            "9537f5177ddb4633a062e4f3b1756d0e",
            "9349c7f4488d4b799bfed0c5d2b7a363",
            "67a5d4b193cd4a1facaede72bb231c7e",
            "f4204172b9a3402996c9694b226e53d9"
          ]
        },
        "outputId": "1f28da77-013f-4bea-a607-96b1263b2ab0"
      },
      "execution_count": null,
      "outputs": [
        {
          "output_type": "display_data",
          "data": {
            "text/plain": [
              "  0%|          | 0/20 [00:00<?, ?it/s]"
            ],
            "application/vnd.jupyter.widget-view+json": {
              "version_major": 2,
              "version_minor": 0,
              "model_id": "45ba596b3e454360bbd0aad07fe6143c"
            }
          },
          "metadata": {}
        },
        {
          "output_type": "display_data",
          "data": {
            "text/plain": [
              "<Figure size 640x480 with 1 Axes>"
            ],
            "image/png": "[encoded data removed]"
          },
          "metadata": {}
        }
      ]
    },
    {
      "cell_type": "markdown",
      "source": [
        "# 6. Evaluate the trained model"
      ],
      "metadata": {
        "id": "6UDXGNOtwb3e"
      }
    },
    {
      "cell_type": "code",
      "source": [
        "RANDOM_IDX = random.randint(0, len(masked_test_data) - 1)\n",
        "plot_output(model, masked_test_data, RANDOM_IDX)"
      ],
      "metadata": {
        "id": "aw8BavI7wfUJ",
        "colab": {
          "base_uri": "https://localhost:8080/",
          "height": 284
        },
        "outputId": "ee79851b-801a-46ad-ce5a-dc1366b50bbe"
      },
      "execution_count": null,
      "outputs": [
        {
          "output_type": "display_data",
          "data": {
            "text/plain": [
              "<Figure size 640x480 with 2 Axes>"
            ],
            "image/png": "[encoded data removed]"
          },
          "metadata": {}
        }
      ]
    },
    {
      "cell_type": "code",
      "source": [
        "plot_encoder_output(model, masked_test_data, 1000)"
      ],
      "metadata": {
        "colab": {
          "base_uri": "https://localhost:8080/",
          "height": 817
        },
        "id": "0AfNsCrsIe0i",
        "outputId": "698c911b-f713-4652-bf22-96df7ef827bb"
      },
      "execution_count": null,
      "outputs": [
        {
          "output_type": "display_data",
          "data": {
            "text/html": [
              "<html>\n",
              "<head><meta charset=\"utf-8\" /></head>\n",
              "<body>\n",
              "    <div>            <script src=\"https://cdnjs.cloudflare.com/ajax/libs/mathjax/2.7.5/MathJax.js?config=TeX-AMS-MML_SVG\"></script><script type=\"text/javascript\">if (window.MathJax && window.MathJax.Hub && window.MathJax.Hub.Config) {window.MathJax.Hub.Config({SVG: {font: \"STIX-Web\"}});}</script>                <script type=\"text/javascript\">window.PlotlyConfig = {MathJaxConfig: 'local'};</script>\n",
              "        <script charset=\"utf-8\" src=\"https://cdn.plot.ly/plotly-2.35.2.min.js\"></script>                <div id=\"c84b02bd-c6dd-4175-9758-a10cee0104e1\" class=\"plotly-graph-div\" style=\"height:800px; width:800px;\"></div>            <script type=\"text/javascript\">                                    window.PLOTLYENV=window.PLOTLYENV || {};                                    if (document.getElementById(\"c84b02bd-c6dd-4175-9758-a10cee0104e1\")) {                    Plotly.newPlot(                        \"c84b02bd-c6dd-4175-9758-a10cee0104e1\",                        [{\"hovertemplate\":\"label=2\\u003cbr\\u003ex=%{x}\\u003cbr\\u003ey=%{y}\\u003cbr\\u003ez=%{z}\\u003cextra\\u003e\\u003c\\u002fextra\\u003e\",\"legendgroup\":\"2\",\"marker\":{\"color\":\"#636efa\",\"opacity\":0.2,\"symbol\":\"circle\"},\"mode\":\"markers\",\"name\":\"2\",\"scene\":\"scene\",\"showlegend\":true,\"x\":[0.8104021,9.678535,1.2427379,2.2988875,4.154882,6.801186,4.343854,9.369855,7.6410723,8.35237,9.8962965,0.98197305,7.223406,4.9542212,4.0161,10.247441,5.4573455,5.604238,6.5002375,7.388473,3.8509133,3.639074,2.581401,4.8578243,5.1460853,7.2724447,7.243584,5.8541265,4.2241106,5.357907,3.2279317,7.735269,3.5300534,3.3455532,9.374507,5.7871733,0.19505316,5.5246406,4.9222307,1.5413328,0.35915342,2.8973951,5.2361703,3.8432698,10.379445,7.8367205,6.118797,7.3711176,3.9121726,9.834939,2.9871373,4.0067267,4.348071,9.335293,10.599261,7.5640984,3.922116,4.247339,4.5049734,1.8964411,7.254489,11.485295,8.074026,5.6949844,5.576655,3.5648842,7.1885343,7.1141343,6.3457584,6.475173,6.86391,3.101246,4.606942,0.60152274,2.7537386,3.5655663,10.802181,8.048298,8.280268,5.7513776,8.915018,5.8377247,8.182801,4.436746,3.3730714,6.9311137,3.458684,5.8035336,14.559721,8.056733,5.156951,4.434487,8.51111,7.148568,4.442897,5.5480204,6.8592877,7.6504235,5.6796784,4.2562165,5.19441,4.9916277,0.49181294,5.988118,8.169455,7.1946354,8.302218,9.493088,2.7491152,5.405337,4.8623595,3.675314,11.83776,3.4756107,8.674592,5.9467225,9.535332,8.217631,1.7549728,5.4327455,5.5877943,5.1656127,7.723043,5.2691503,2.7921674,6.8899107,6.698014,7.5250936,3.8426013,4.1837287,3.1937258,4.548525,7.176413,9.368016,5.602781,5.1452723,1.4647347,1.2584071,2.7300305,5.97447,1.9554267,6.895998,3.3332133,5.7782483,7.002843,2.2752135,3.1114697,-0.9216694,5.4628444,0.87006164,8.980009,8.251741,10.295976,4.7162127,1.8917198,5.2721906,6.6194787,5.1043196,11.298791,8.205821,3.9914327,6.5922146,3.9237986,2.864402,4.1783504,4.9063296,2.6207778,2.0052907,4.3364453,2.2364197,6.2617416,4.401366,9.610786,9.023786,4.8751507,3.9577842,4.2433496,2.530746,10.818414,7.385828,1.4664205,6.878767,3.6938164,6.3912234,4.289796,1.691543,1.5747963,3.2917917,7.3825965,8.585331,4.4934244,0.91935766,8.875157,0.66074777,6.0372605,6.129719,2.9308789,5.946196,9.673633,6.809701,2.7842424,8.039407,5.940277,9.976886,3.7539093,3.843179,4.1637597,6.0529156,7.9923954,5.347852,3.8314104,3.987836,2.7028697,4.6073174,2.9125125,4.498478,3.894225,6.979513,5.0398493,5.3657956,8.251041,8.884229,3.3371575,5.9833894,3.2150388,6.899075,6.918012,6.7250986,9.111262,4.280927,2.9137614,2.8514931,2.250427,8.188133,4.347303,4.4422555,5.945601,1.8935183,7.054238,8.434442,4.523631,1.5844703,7.5949707,6.39327,9.184956,5.2330604,5.6831093,1.6955594,3.989403,5.477911,3.6181808,6.5341454,5.459965,2.126079,5.9852023,4.8228807,5.6230974,10.08575,6.1909657,7.8541512,4.7721615,2.8851516,5.657712,4.454502,2.421873,5.333358,1.6825978,2.8909597,3.1256664,13.834182,7.9460673,3.993416,6.956505,5.0541406,10.699476,2.7282982,3.1474333,6.9401546,6.2664204,11.506385,5.3000803,3.614546,9.94227,6.781319,3.2814348,0.21110725,4.089865,8.797305,1.3971795,4.417578,5.263971,3.720071,8.105885,3.6550395,7.0243244,8.02032,10.358651,5.0806956,6.392699,10.668449,7.2003937,10.932305,1.6469455,8.337464,6.4259367,8.483654,7.039733,7.8551927,3.11212,1.6303244,3.5179615,3.7399976,9.2098255,1.8447756,5.921956,5.909896,6.95459,3.1621203,6.180064,4.6372786,4.438961,10.639736,1.8846018,4.627133,4.589463,7.5224414,4.424357,6.237995,9.162434,4.683726,3.5996292,5.1404696,3.1219985,11.942592,3.572545,7.439112,4.692203,2.0368183,3.5171113],\"y\":[-7.503571,-17.253828,-6.4974003,-10.143224,-9.213074,-12.931105,-7.8580203,-18.161701,-17.693989,-13.017707,-21.709164,-7.096042,-12.933846,-10.621267,-12.566103,-18.317892,-14.080213,-14.2695675,-22.462288,-11.7027,-9.719478,-10.123163,-7.1300054,-9.584291,-11.204289,-18.013193,-15.176265,-11.650048,-10.927426,-12.224744,-11.248579,-15.055449,-9.40463,-9.585222,-10.213522,-7.7042837,-7.8055954,-8.90968,-8.437198,-6.7928147,-7.982577,-7.7713137,-21.246347,-12.715923,-20.008099,-12.111904,-13.64619,-13.490419,-10.639918,-13.237149,-8.138551,-6.6932845,-9.497402,-13.792577,-16.177427,-18.74452,-9.163351,-14.795423,-13.355234,-5.102003,-19.219402,-15.577961,-20.084858,-11.345433,-8.647108,-11.618134,-8.8175125,-9.713762,-13.195706,-16.341934,-13.196223,-9.88416,-10.692029,-5.710103,-6.97108,-6.528034,-15.111126,-14.7162695,-11.181926,-15.321311,-11.879522,-8.212813,-17.46079,-14.687369,-10.875056,-19.61733,-12.849779,-10.5314455,-22.253849,-11.678303,-10.418659,-8.286147,-16.469225,-14.850213,-8.673391,-11.711136,-14.451809,-17.214273,-16.02885,-10.334817,-14.480341,-14.606833,-8.506408,-15.515918,-11.965072,-11.845782,-12.477291,-8.07598,-10.44756,-11.670412,-12.715754,-9.58232,-16.65756,-10.438535,-23.232557,-13.288239,-14.14908,-15.063364,-12.800079,-9.725963,-16.298443,-11.443327,-20.250488,-9.582615,-11.748428,-14.2397375,-11.631212,-16.120632,-7.5347843,-9.242316,-12.231451,-9.360048,-11.7032175,-13.365956,-12.791047,-13.3179,-7.9851193,-9.261466,-8.242311,-14.211775,-5.810297,-8.309734,-8.39679,-11.534256,-17.39841,-9.940626,-9.544261,-4.5739255,-14.384764,-9.651668,-22.79899,-12.590718,-27.188253,-8.450289,-9.634243,-11.742563,-14.809871,-9.463732,-19.707785,-17.161024,-9.58573,-17.377035,-6.0459237,-9.302463,-8.242929,-7.8276877,-9.564937,-10.13725,-11.258851,-12.151583,-14.062746,-14.326157,-16.797707,-12.060725,-13.176233,-9.87861,-11.692814,-9.52325,-20.942474,-16.525085,-9.742679,-18.168919,-14.622725,-14.079535,-8.4653015,-8.35617,-7.3578677,-6.420232,-6.4414506,-13.54102,-9.999037,-7.403668,-14.098367,-7.6435533,-9.135314,-10.637581,-12.574336,-13.949268,-14.3615885,-17.443514,-8.508698,-11.868747,-8.753607,-13.168211,-11.924399,-11.563426,-12.090246,-15.391964,-25.075708,-9.216183,-9.297581,-13.853645,-11.41563,-13.346174,-13.623609,-14.338676,-7.5310655,-12.635326,-12.509385,-10.701603,-14.809681,-14.676773,-6.3373914,-9.702545,-9.4483185,-11.172188,-14.990771,-12.20314,-13.041485,-10.292956,-8.758862,-10.450531,-7.774089,-11.378417,-11.348827,-11.923668,-12.59761,-13.43758,-10.963521,-12.098372,-10.049321,-10.917338,-13.198113,-13.955597,-17.911823,-14.263356,-12.18113,-5.52837,-10.43767,-9.042636,-10.915618,-10.329324,-14.537565,-12.650149,-11.103875,-7.1344204,-9.9295635,-15.604058,-18.115953,-10.135961,-9.560979,-16.073908,-8.548239,-8.505039,-6.818811,-10.327704,-10.148012,-10.319689,-9.265856,-29.525566,-11.489328,-10.79737,-7.7357864,-10.726106,-18.713242,-11.185819,-6.9780917,-16.760578,-14.626749,-17.302296,-11.491775,-10.327266,-12.308201,-18.18462,-9.075291,-7.9364586,-9.189547,-18.094458,-13.523872,-12.870963,-16.186584,-8.144595,-15.158978,-10.253764,-13.984632,-18.999462,-12.508846,-11.491071,-17.48379,-21.279037,-11.424907,-15.483343,-7.1960793,-16.794977,-12.961115,-16.19063,-13.631952,-20.019749,-10.606549,-12.420797,-10.488159,-12.211195,-17.634823,-13.156076,-12.367242,-13.441465,-18.528292,-9.941473,-13.466609,-14.117553,-14.260646,-17.022493,-6.3247194,-12.894678,-9.162922,-15.30914,-9.841941,-15.773423,-16.201996,-7.6112523,-7.2986884,-11.47753,-10.608248,-21.380201,-9.571105,-14.898958,-14.583268,-11.202865,-11.576093],\"z\":[5.7148814,1.9601091,3.2297132,-0.49538323,1.1450062,1.053393,2.1804543,3.680396,0.48634705,3.2758327,1.5366534,-0.18671393,6.470886,3.2015805,8.670241,5.482565,1.5299656,2.6615536,3.3849063,3.3066359,3.3065858,2.370309,0.94244415,3.6667483,5.804024,3.0449104,4.186621,6.8914585,3.2159798,6.2028356,3.1272013,4.507464,0.6891203,5.083369,-5.2530456,4.7647195,2.6324222,5.031415,2.2995594,3.3500183,3.0494459,1.504527,1.7524847,2.2905262,1.0841011,3.7403932,2.5945115,0.2327646,3.5895007,4.4814544,4.6428585,3.1357787,4.162308,2.5554469,2.2958984,4.2397194,4.704892,4.0227413,-0.29891363,2.3977125,1.6562375,5.2126384,3.1386197,2.4761486,4.9278474,2.2152581,3.2697287,5.887836,-0.42639306,2.9935117,3.0523753,3.2301753,5.2626996,1.8562726,2.6398964,3.6972282,4.4453897,6.875312,6.708664,2.3810802,6.97895,5.182365,1.671296,1.5338267,4.2338147,2.6020226,3.9785955,8.263228,1.2669276,4.53672,0.2970418,5.483615,1.9650844,-0.024143077,5.3374925,2.035787,3.895616,1.7010015,1.2231516,6.3548036,3.6232445,4.3272524,0.8694984,2.535298,4.676567,1.7512796,0.7193255,-7.7950583,9.18554,6.6914983,2.1925762,2.2655425,8.353065,1.921699,2.7315407,5.455062,5.7595468,1.6469167,-0.4092541,7.051784,2.291327,-1.3963695,2.8174317,5.116139,2.6282086,9.600306,5.473138,3.260144,1.4131206,2.2782688,8.50742,7.1477714,2.9663332,4.4032264,1.5908054,3.8583765,-1.1743484,1.5022058,6.2752547,2.2769632,-0.50130963,-0.67891943,2.7998598,0.34738573,3.134573,4.0841346,4.4212275,0.28393134,4.1700397,-1.1787288,1.179247,2.740956,1.6388427,2.4381487,2.8390558,2.5233586,-0.34905085,6.6939282,6.236332,2.838434,2.1420064,2.8964033,2.679865,0.94469154,3.7713933,6.075041,8.58812,7.191423,2.3694754,2.530846,0.089645505,2.2674499,3.523017,7.35037,5.246167,1.1409475,3.2192955,3.4341626,1.302692,2.8034,7.2602234,-1.4702648,5.4570694,1.676784,4.6552978,2.2465832,3.08664,3.3770783,-2.5187757,-0.9629807,2.0688314,1.5789139,6.1727314,-1.8993137,5.1135015,4.6876545,-0.6366455,2.6819992,3.6318252,3.0888457,4.533864,7.3416605,6.575719,4.894212,2.0673068,7.159357,3.8355765,3.5668666,1.5535394,5.442182,4.162509,-0.51089513,2.134416,4.150007,2.0868418,0.13678798,1.1210635,-6.4355726,2.9667532,0.58929026,2.4873807,5.2268734,3.6225193,7.2483196,5.0448875,-4.6817613,5.827327,8.518486,5.8987355,2.4180086,2.3428352,3.9184754,4.329832,6.802201,5.2378626,3.6832118,0.7564176,3.497802,-4.510942,6.0586524,3.7313712,0.82293123,5.895815,3.3095083,0.68008834,0.24682152,0.9629296,4.101085,4.5318546,2.2252645,2.2136092,6.9851546,0.7296187,6.2917275,5.871278,3.7358437,7.6747403,3.0647078,-0.30183864,5.772439,2.6181233,3.4991488,3.6151316,4.031357,3.8353584,1.061429,6.592125,5.813204,1.9469955,-4.126222,6.399876,6.1160226,0.5926439,2.7109008,4.0098124,0.7451724,2.6564543,0.98873025,5.5470653,2.7444286,2.2685504,3.643772,6.032235,0.277398,4.4058,-0.7444112,4.4506216,2.980337,6.0631223,3.949597,3.7265441,0.8418049,1.3135983,2.5408611,3.656317,0.34626183,-6.029156,3.1222088,2.9527287,-4.752653,6.6094947,4.1245155,2.2024457,5.707939,4.5055346,2.3400264,3.146789,0.5453607,6.481557,-0.21815276,4.2656217,10.366064,1.4101858,2.9556768,3.6884792,-0.23974735,3.3236506,7.834286,1.7131122,1.9493449,1.5989505,3.5423942,4.360855,1.5264268,3.7340236,5.8915834,4.7612615,3.5754128,3.9967315,3.2132163,2.766831,9.213223,8.2840185,2.5857742,4.0650682,0.6450771,2.917766,4.871848,4.096319],\"type\":\"scatter3d\"},{\"hovertemplate\":\"label=1\\u003cbr\\u003ex=%{x}\\u003cbr\\u003ey=%{y}\\u003cbr\\u003ez=%{z}\\u003cextra\\u003e\\u003c\\u002fextra\\u003e\",\"legendgroup\":\"1\",\"marker\":{\"color\":\"#EF553B\",\"opacity\":0.2,\"symbol\":\"circle\"},\"mode\":\"markers\",\"name\":\"1\",\"scene\":\"scene\",\"showlegend\":true,\"x\":[9.884289,9.51988,3.5012946,2.5525696,2.4696047,2.5241377,4.0223784,5.9850473,0.7439541,8.927343,3.2331219,9.485037,0.60889405,1.9476367,20.324656,3.900454,12.440901,7.23205,2.74674,3.7267792,2.7493932,6.2876062,4.620272,4.549769,2.548937,9.45168,1.2909677,3.2498,14.759162,4.245424,9.427757,13.091197,13.223483,3.4624655,3.609076,2.7451854,2.825151,3.502445,5.552883,4.2101936,7.382797,3.1219044,2.7815971,3.7324765,3.9433038,4.747357,4.189091,2.8264034,6.9174256,1.4175351,16.319637,5.387123,6.0195045,5.012408,6.474888,20.051792,5.4325314,2.8045864,4.7672415,4.0804667,3.5538344,7.1474414,7.8585997,4.2176247,3.9280777,11.8169155,8.316352,5.3170257,15.901,15.129317,3.5337842,8.211796,1.9979767,28.525045,-0.46860516,1.518576,2.5052352,3.3975844,3.7535439,6.479824,4.3151474,3.864943,6.972998,3.441008,1.2596401,6.873788,7.151341,2.9582915,11.7012825,8.549187,7.059295,3.0006275,13.30942,4.4784393,3.490737,1.254471,4.5029964,4.979649,1.2990311,5.6322107,2.7807755,9.320826,4.7595944,4.8900476,8.341718,12.710287,10.660935,16.938883,4.991003,4.507137,3.119965,11.469973,4.7987146,6.367747,6.4876256,3.9040027,2.8027349,0.878894,7.100051,11.331191,6.439514,9.472661,2.0538425,4.6629243,3.341692,0.33873767,1.8380828,2.800336,2.96803,12.92141,11.833024,6.247758,7.633151,4.522759,4.348379,5.2495527,5.3467765,5.817351,3.3922064,5.9467916,9.262028,7.1733108,4.746194,5.242291,3.2575524,2.15629,5.085261,5.0048714,3.1852038,13.28597,4.2437997,7.173732,3.2114341,4.6239014,6.883893,4.4292173,14.553065,6.751519,9.650641,1.9309291,17.96684,7.085514,11.0446825,4.5550084,3.009298,4.468278,8.521271,6.045994,3.5053532,5.1750197,5.4389286,2.7311902,20.613386,4.323227,2.5494056,3.764371,7.1851883,2.6311395,6.3485947,4.0125766,0.9631509,4.3676305,3.3844562,9.921852,7.8162255,1.67433,6.8393316,7.215774,6.122698,16.485971,5.051225,7.6862965,2.4413881,3.6760228,3.6914237,0.09420815,6.1421537,2.1816106,4.3443837,3.7685046,10.169124,4.108936,3.3162608,2.1779034,14.563818,10.033635,7.268426,0.26129577,6.1790423,17.592201,4.6095014,7.3747697,4.398116,3.8734598,6.414091,16.228634,5.31226,1.5904444,4.964619,8.393242,5.3266187,5.0396132,20.516684,6.4632015,18.591091,4.598388,8.403458,2.7550192,2.5905344,10.863492,2.6623254,3.5258262,15.797421,4.102871,2.5636663,2.84703,2.2056572,3.8017478,2.1272588,3.887998,3.7829063,3.8062916,13.019217,2.604849,1.3153954,8.25384,8.646348,4.720348,0.99591917,2.9903996,8.136806,2.574478,22.134981,11.8581705,15.518537,7.7786384,7.397063,13.102324,13.380639,0.08882154,11.02448,3.2680862,11.247027,5.816346,2.696367,8.456442,5.10171,3.6362078,3.2511897,2.8985996,6.069412,4.404548,2.436263,8.022804,2.3248496,6.300226,4.9836407,4.355535,0.780648,12.598989,4.9191203,4.592417,12.243237,2.5305512,3.201344,4.558549,1.159147,2.5525951,13.072825,6.655956,7.816186,7.247856,3.7617614,5.9698043,5.649402,4.2603273,3.4852543,1.7228572,4.146486,12.569967,8.7067585,3.0202127,9.976858,3.0187826,6.7326336,4.0468764,-0.11946387,4.203042,17.952864,2.3903675,10.808044,14.172414,17.941675,19.574408,3.3666296,5.5882697,8.604086,23.826256,2.670866,0.9683981,15.304161,2.6530545,1.1142049,5.0027614,6.1692877,3.2457967,2.5631828,7.4260135,11.300639,0.41699794,5.625102,10.998153,4.7335076,28.123676,5.198344,5.90025,8.992447,4.269522,4.4810667,4.307785,2.3259053,5.236833,10.114207,15.721761,7.969165,4.0320983,4.9177275,3.9820516,2.2524624,11.957213,12.701501,24.492691,1.0501447,5.228458,2.1197488,2.589727,8.2586155,4.038073,1.8530773,8.748309,8.64409,13.798818,20.442308,5.651259,2.2965014,1.7622393,3.4218984,10.738719],\"y\":[-0.7674296,-2.2972562,-1.1925063,0.22270487,-3.0078082,-0.5619592,-0.73318243,0.5577513,-3.0931568,-0.30707788,0.2715608,-2.9142895,-1.5417706,-3.157899,1.8734571,-1.3914804,-1.1955357,1.0505764,-0.29668987,-2.6749299,-0.3314131,2.0441663,-1.6334088,-2.052238,-2.6707814,-5.620225,-2.4974122,0.97330517,-2.8666573,-0.99250895,-1.0976174,-0.8598882,1.0458478,-1.726351,0.7231888,-1.9448518,-2.9075172,-1.7144005,0.118803665,-2.1179192,0.45033556,-0.9691674,-1.7340614,-2.397777,-1.9852194,-1.9472839,-0.62573063,-2.6220758,-0.0068252534,-2.9620328,-6.7051096,-1.7040039,-0.0013635904,-0.3821144,0.2483329,-2.890153,-0.91340876,-1.6814666,-1.1832324,-1.8446538,-0.988749,0.44809538,-2.9834177,0.6993774,0.06136127,-1.4028476,-0.46350825,-1.7581224,1.0205017,-8.448974,-1.0279586,1.257277,-2.4435458,-7.0610094,-2.0066953,-2.3526478,-2.8455534,-1.2431469,-1.4865905,-0.74026704,-0.80076975,-2.6033123,-1.9627465,-1.5860184,-1.4918725,1.2093356,-0.2602251,-1.0404689,-5.057057,2.5020072,-0.69154435,-0.6304556,-1.2704675,-0.77275234,-2.0062952,-1.0636449,-0.3221547,-0.4149601,-1.0359601,1.8645838,-0.61145616,2.819137,-0.8389499,-2.1783402,-0.9613651,1.3087298,-3.7499335,-0.38991076,-0.41355938,-1.6878194,-2.480115,-2.3815253,-0.86525035,-1.652147,-0.6553448,-1.8851582,-1.0867312,-4.867553,-1.2675767,-1.028618,1.5091748,-2.3201616,-0.8832291,-0.84787494,0.70237356,-1.9896666,-0.4418441,-0.16764252,-0.06395632,-5.8674827,0.3370366,-0.17762214,0.66182745,0.83620197,1.7172017,1.543334,0.94586426,0.06590259,-1.3727447,1.5620025,-4.150629,-0.07628959,-1.0034432,-2.6964226,0.8429348,-1.9492881,1.6727275,-2.0124242,-1.8081964,-7.8777127,-2.5177395,-0.03599426,-2.5405362,-1.9963362,-4.1178336,-0.8050407,-1.029762,-0.8528827,-0.61385125,-2.883803,0.91192883,1.2205212,-4.3669662,1.572541,-1.8956933,-1.6106849,-2.254138,-0.8193571,-1.7490507,1.8453027,-1.6690683,-2.0136392,-3.0325432,0.055324227,-0.7631065,-1.2270265,-1.980771,0.72836816,0.47603458,-2.1249158,-4.852907,1.8228064,-0.0018188506,0.9644967,0.7555411,-0.9828329,2.5395143,0.6755363,1.9207145,-5.6845016,0.1650215,-1.4440156,-1.9180449,-2.688615,-0.3957712,-1.8591737,-0.8562845,-2.671057,0.36356217,-2.2288148,-0.23688157,-1.4105875,-1.0591207,-2.3433337,-4.329961,3.0597477,2.4110193,-1.7239363,0.8730857,-6.3523407,-2.5607626,-0.35936195,-2.2968848,1.2990216,-1.1865784,-3.652261,-1.7397417,-1.6382405,-0.8302754,-7.2940755,-1.5096464,-1.1100017,-5.349794,-0.72502214,-13.91365,-3.677065,-0.16460155,-0.6193255,0.2804677,-2.4729657,-1.9087944,-2.257858,-9.845102,-1.3244091,0.15332739,-0.45925385,-0.47789538,-2.4714327,-4.020032,0.23013721,-1.2501373,-2.500666,2.1415038,-2.9948874,-2.7102602,1.9004661,-1.6505817,-1.4355589,-2.5843396,-0.8734377,0.92150503,-8.205468,-3.6493804,2.1377687,-6.7027864,1.8574258,2.3176525,-3.2352047,-4.918501,-4.786904,-2.8037546,-0.20743631,-0.33697414,-0.67049915,-1.9965818,-2.8728597,-1.768662,-2.0451589,-2.1786163,-1.4793684,-0.83756894,-3.1832912,-0.8910885,0.3823583,-5.813585,1.3817159,-3.1795602,-1.9719217,-1.8854182,-1.3207368,1.4198531,-0.42372644,-0.4695511,-2.3359892,-3.4229293,-1.036836,-0.74115723,-2.9778657,-3.5212028,-1.2930368,-2.8841004,-1.2823695,-1.9371926,-1.1870246,-1.3069388,-2.548471,0.08160214,-1.6899412,-0.18934423,-1.1297354,-0.2372362,-0.3550409,-0.4893946,-0.900013,-1.6250362,0.87608427,-1.4704956,-0.17056368,5.033953,0.06419654,-2.5095081,-5.4352956,-3.218635,-6.0987086,-0.2713002,1.5821276,0.6830581,-6.3530746,-1.0225109,-2.0391746,1.3120137,-1.9276825,-1.4132775,-1.9138885,-0.25649422,-0.3420322,-0.2273595,-1.1888456,1.0630093,-1.8815851,-1.5880824,0.024901763,0.83327943,-9.358224,-1.4593618,-1.7471541,2.6858091,-1.0627398,-2.4932144,-2.149407,-2.2044837,0.42910504,-0.49896127,-4.4089465,2.378381,-2.1949954,1.5480286,-2.2977865,-9.332854,-4.7823534,-5.167134,-5.222934,-2.2215097,0.3585329,-6.2891374,-2.5573902,-0.11564727,-2.0163221,-3.11904,-2.0093315,0.18215026,-4.5976286,-4.752866,1.802458,-2.58021,-1.21493,-1.8806816,2.0931375],\"z\":[9.58479,10.408989,4.4531093,1.0183977,0.28533146,2.108503,6.62484,4.040922,-0.3906931,8.915139,4.006873,11.451981,1.5337408,-0.17716491,18.585411,5.758792,17.277205,8.381112,0.77395666,1.8481126,2.518711,5.3438363,4.994736,3.953675,-0.21696827,12.62072,-0.49095038,6.017433,12.839503,2.1960924,9.113124,10.07648,14.162733,2.4398143,0.7183656,3.5244794,3.4351346,2.32544,7.9084764,2.4640694,10.189967,2.3357277,2.590432,4.5329766,3.665279,5.1315002,4.6486125,3.794076,9.190607,0.50376713,9.762487,3.3243678,5.976797,4.787593,6.0355964,14.13906,5.7325215,2.4291446,6.290753,2.4330983,2.1882324,8.464787,9.832442,1.9147857,5.235334,10.764196,8.161955,3.8595912,14.281197,6.564453,3.9336019,10.72831,1.162864,18.920656,0.36272877,0.9999216,1.3249832,3.564686,4.0667152,7.551598,4.244071,2.5120482,7.0689855,1.849961,-0.045231663,7.991769,7.186389,1.9734881,12.479857,8.537915,7.3749447,1.3574291,12.348678,5.742601,2.5437014,1.923811,3.5282614,7.2835627,0.46790683,4.8257837,3.674212,11.2829895,5.397668,5.5360684,8.15168,14.289598,14.50988,15.844479,6.9634166,4.205604,2.5607061,10.753306,2.8530211,5.6261063,6.001337,2.1919754,1.501509,1.0892935,6.2556324,9.840783,7.9247713,14.332281,1.6559639,3.3803592,0.89080447,0.039125774,0.47606057,2.6311033,4.524148,9.983892,13.246634,7.732397,8.470089,5.517681,3.322263,5.091636,6.395123,4.322367,1.2106502,5.8891525,12.326074,9.580699,3.0550935,8.335394,2.425806,2.1995072,4.7965293,5.2011433,3.8179545,12.000245,4.743536,11.544065,1.3411528,4.873715,10.706289,3.8165672,13.070768,6.5612473,10.113852,1.0284466,19.433311,9.14761,12.754245,5.373798,1.9667686,4.6066647,12.728147,5.759972,1.8115369,3.6301522,3.620523,1.4308436,13.65935,5.528454,1.8674707,4.131129,7.742521,1.7756703,5.887186,6.6317563,0.6900561,5.579307,2.610646,11.158282,9.656524,1.1281444,8.450666,9.848592,9.5257225,14.427754,4.646176,7.7109594,3.241494,2.8940456,3.520608,-0.002359286,6.0379586,0.14127286,4.125027,2.213333,14.916744,2.588024,1.7812272,3.6823397,12.420154,10.182551,8.338796,0.20637318,7.585044,13.618766,3.4149928,7.193823,5.9060473,2.9480054,6.7929487,17.219677,5.6837626,1.0636876,5.4209557,2.9682589,6.038076,8.019052,14.057651,6.9475975,11.702375,7.3082294,8.790496,2.2855499,2.094691,14.043686,1.6158122,2.8206532,9.494738,3.9419334,-0.3960671,0.76324916,2.5154548,4.103098,2.8203418,2.6003432,2.1296906,2.5605783,14.179915,0.47150153,0.58655083,9.456907,10.2153225,3.8391824,0.25126064,0.9606189,7.7054076,4.3410263,15.686724,11.013317,10.5956955,8.164059,5.800141,15.274411,15.162841,1.035072,9.5149765,1.9086611,9.654808,6.473934,1.7491461,9.205825,3.959196,3.0225322,4.628779,3.0263507,7.1775484,7.9984317,1.3959923,9.52494,3.8527417,7.857054,5.699835,5.586797,2.0403361,12.959963,5.846402,4.2369094,11.695073,0.99317145,2.4474032,2.957823,4.0081887,-0.016017519,9.966652,5.6623616,7.4791045,10.245486,3.3658004,6.8577156,3.4393976,6.5712433,5.194767,1.0578146,6.053441,12.513422,9.508268,1.3247578,8.889296,2.6145527,10.13402,3.6908793,1.5900741,2.784972,20.484514,0.5331411,11.552701,15.345551,14.561012,13.266494,3.1667302,3.9997623,8.020354,15.301295,2.1698194,0.09438725,14.921152,3.2063735,0.23800012,2.8299532,3.8979802,3.3552108,5.1933527,8.706307,10.602941,0.11359102,4.6118655,13.209988,4.287869,17.016455,6.217954,5.850424,12.048056,4.127468,3.8161638,4.009821,1.9254713,4.188955,9.4801,11.756229,9.32085,1.3091755,7.627776,2.659377,2.3059838,12.3637,11.002702,14.375147,0.24493995,7.8370905,3.4879246,1.0850868,8.284436,2.5101945,0.6909161,7.060752,7.8766894,12.602395,13.097385,5.837866,2.124885,1.8767267,1.4975619,12.820909],\"type\":\"scatter3d\"},{\"hovertemplate\":\"label=0\\u003cbr\\u003ex=%{x}\\u003cbr\\u003ey=%{y}\\u003cbr\\u003ez=%{z}\\u003cextra\\u003e\\u003c\\u002fextra\\u003e\",\"legendgroup\":\"0\",\"marker\":{\"color\":\"#00cc96\",\"opacity\":0.2,\"symbol\":\"circle\"},\"mode\":\"markers\",\"name\":\"0\",\"scene\":\"scene\",\"showlegend\":true,\"x\":[13.587802,7.119911,8.772975,10.125405,11.102164,9.343528,3.325936,9.463265,6.886929,1.6058592,9.307317,9.194239,9.475588,6.5273433,8.372639,10.13645,9.305143,12.041673,1.8965425,3.4534078,11.644805,7.896895,8.9700365,3.8328831,2.2728767,15.601625,12.672515,7.640671,11.819759,11.6250105,8.855523,3.820251,1.2968287,9.375589,6.738334,13.395929,10.22484,6.4525404,7.2917686,9.158573,2.8320186,10.359133,7.2665806,7.306927,6.5918293,15.349929,3.044025,7.983267,6.697962,2.5918016,6.239585,10.39855,1.7945185,4.848879,9.190391,7.9219747,3.8608837,10.137453,6.524431,11.620834,12.1150055,7.7837057,4.398736,-0.1503773,2.6241128,9.149272,8.12301,6.6446643,4.1809506,10.037043,-1.1835235,5.4621325,7.384799,10.698735,6.8916783,10.68454,8.304257,11.611965,6.622721,6.2332067,4.5876865,7.0077095,8.5161,11.102196,10.86586,10.262049,3.7730718,8.915235,4.5996943,6.813193,4.657883,11.993653,14.732782,10.519418,11.381343,10.96286,10.179458,1.3112048,9.849061,13.863483,12.487388,4.487244,3.597331,3.6228557,10.751725,7.086039,10.963865,2.2203083,15.668565,12.732714,10.42143,7.869062,10.066701,7.3132744,10.940483,5.778146,12.6459465,6.0310545,9.946518,12.330649,10.867799,8.403793,8.736494,7.9240646,2.6176028,6.3872914,9.061428,8.968186,4.9945235,12.461524,12.60961,11.730738,12.728279,11.597647,9.584553,4.6299477,10.165343,7.3507605,7.9692044,7.835574,5.081489,14.060583,8.028626,4.141956,5.2667446,4.0610323,6.362961,6.446779,11.08609,5.1648617,10.864069,6.111042,11.11899,9.435856,12.490079,6.369211,4.820027,6.57952,7.394878,5.282923,3.1885269,3.7756371,8.329594,10.731072,8.853453,6.5745063,5.342126,3.2470171,7.525581,11.817016,4.795874,9.409611,10.492281,3.8561647,5.3569107,3.2861714,9.8178835,9.773284,15.382399,12.149934,10.308727,9.612921,14.8817625,11.246963,11.55406,7.8652563,7.7852006,9.163111,7.417866,12.237361,10.435178,9.730906,11.585158,4.6951647,10.354054,5.9994082,3.0500293,4.3457623,3.897153,9.980662,7.024223,6.757909,8.73751,6.9709787,0.07227963,12.8499775,2.7847486,8.47688,8.514112,10.292578,9.858789,6.8574443,5.927191,8.1719885,6.9543195,11.332532,4.626779,4.2737303,14.427723,12.295022,10.91718,7.0043697,15.413604,13.386165,3.1130247,7.4241824,10.584266,8.597118,11.4136505,7.9138355,10.693169,3.7677011,2.884111,11.72839,7.634658,8.11328,6.206823,5.1530066,3.8557692,8.938313,16.475227,7.9754014,9.301978,12.758775,16.163496,6.790651,10.8572035,9.314662,11.056133,10.0029545,7.942428,5.171649,7.035089,2.3013682,18.069614,10.416343,10.030095,9.103917,8.283711,6.494497,8.8452835,1.7337669,12.451433,10.034189,7.481038,9.572708,12.3546095,9.69277,7.6213083,4.607209,8.651256,6.5126925,3.088446,3.7514129,13.095916,6.638026,8.434835,9.637019,5.1686273,13.4530115,10.2588415,11.666465,2.6378024,9.06424,10.032701,7.723208,8.667552,12.064235,12.1411085,9.7144165,8.466998,3.5561316,5.96554],\"y\":[-12.026267,-8.928631,-7.526653,-21.161726,-9.065456,-7.2077723,-11.960628,-11.436992,-7.4960217,-7.6677933,-7.254934,-8.082882,-5.8621793,-12.394046,-11.976885,-16.778416,-8.701517,-10.759637,-6.35959,-11.7530985,-8.811613,-6.8012414,-15.104813,-11.542353,-5.0295024,-12.334288,-11.532704,-4.273434,-13.37743,-10.097596,-8.482872,-1.3794553,-6.078623,-9.1375265,-6.510695,-14.368634,-8.62747,-5.4197836,-4.7207737,-8.659579,-12.0234,-9.015457,-8.574498,-9.655442,-6.7742586,-9.714862,-10.602752,-3.9595015,-4.599234,-9.638538,-7.5492544,-10.629653,-14.0705595,-7.095591,-7.10533,-7.603242,-15.624186,-9.483034,-8.753545,-8.324783,-18.816725,-13.319157,-6.4296064,-9.712956,-7.4724817,-7.193349,-14.529212,-6.4684877,-12.135463,-12.84032,-7.345426,-5.5872717,-12.86923,-11.161881,-6.7796817,-16.238188,-3.6511972,-6.7963953,-15.313246,-5.194146,-7.8796644,-12.341923,-10.084541,-11.873266,-16.737982,-7.059207,-5.5977483,-12.143151,-14.224186,-7.6501417,-12.954136,-8.042799,-10.24185,-9.531023,-6.3716087,-13.055319,-11.11057,-12.632737,-12.024661,-9.494156,-13.374368,-6.3501687,-5.0184994,-12.9332075,-10.681572,-5.0902505,-10.597958,-6.028973,-8.410282,-14.272189,-9.364115,-9.393183,-9.67575,-11.803322,-12.969778,-4.494032,-12.26488,-19.645958,-9.0946,-9.887292,-9.4156685,-7.941027,-12.532681,-12.411107,-9.446759,-9.100619,-7.229528,-9.48012,-9.506683,-13.440167,-13.779434,-7.537736,-6.401133,-8.629792,-13.156977,-12.0247135,-12.121317,-3.532607,-5.709957,-2.8881052,-9.4168625,-17.107458,-10.419086,-8.815665,-5.8666615,-10.515204,-10.249833,-6.239653,-10.469689,-12.492807,-9.719879,-21.436556,-9.443464,-3.5739985,-9.994119,-8.751839,-4.362227,-7.481072,-10.640599,-8.162208,-11.659561,-18.96791,-11.497887,-4.613892,-13.627085,-11.886197,-10.146517,-5.704036,-7.5392566,-11.232858,-15.593399,-8.668031,-14.104606,-16.793074,-8.417252,-5.8553357,-17.4828,-9.853894,-11.964435,-9.161117,-13.245811,-10.205771,-16.882933,-10.761626,-16.952997,-12.460207,-9.650355,-14.214091,-3.6010158,-6.215178,-9.80158,-8.422566,-11.843822,-9.324325,-9.581168,-7.8033,-6.190738,-6.3436236,-17.134521,-8.206116,-9.4206295,-10.772211,-17.496305,-9.993876,-3.4379077,-18.699005,0.1431628,-6.627414,-21.56126,-8.284179,-7.4804034,-12.912582,-8.270126,-6.0684667,-16.220089,-8.277142,-6.445389,-5.907757,-20.950335,-9.647577,-9.210044,-9.70028,-19.639296,-11.595613,-2.5606837,-5.928891,-14.4903,-11.308964,-12.976886,-9.628987,-4.616416,-12.019616,-12.208539,-27.470247,-4.0762444,-8.701293,-4.8928413,-7.0725007,-10.501031,-10.507231,-15.538594,-11.31764,-8.637449,-11.975878,-13.032517,-3.08394,-10.133474,-7.3446727,-9.9069395,-11.607185,-9.620232,-7.0891185,-4.6322026,-12.612592,-18.791615,-9.668081,-8.81407,-10.392279,-8.605524,-2.0105805,-6.9488797,-6.667883,-14.275323,-7.862434,-7.375137,-15.969252,-9.59063,-26.724646,-6.152754,-7.9578204,-5.7355447,-10.737303,-13.461566,-3.6458561,-13.523224,-5.4868536,-7.1448154,-9.263013,-5.861927,-10.442209,-7.095956,-12.624148,-6.197165,-3.8007555,-10.794447,-7.227974,-8.912407,-15.524751,-12.150799,-8.714433,-6.1678133,-13.858995,-6.916455],\"z\":[-8.632302,-7.5210276,-7.345534,-11.22601,-6.869845,-4.6199236,-6.9561553,-11.103055,-6.9210033,-8.860112,-5.2963057,-5.202186,-5.7128973,-8.235047,-7.03471,-3.6781046,-6.6744547,-5.2712474,-12.273,-6.0108957,-8.521662,-5.939543,-9.987988,-7.1567264,-8.877534,-15.540688,-7.0012026,-5.580556,-8.080244,-2.3987694,-3.4780412,-9.220061,-8.049391,-9.421507,-8.617548,-14.369246,-5.554864,-0.49625584,-9.039902,-5.575659,-3.519652,-3.097725,-7.4154015,-4.554461,-9.586907,-5.932003,-6.341499,-6.776607,-5.1416316,-9.056934,-5.903539,-8.510718,-3.6082106,-7.8831077,-11.28409,-6.467111,-4.053328,-6.1633263,-10.001014,-0.5649444,-9.736919,-4.85089,-6.2122264,-3.4485815,-7.9663258,-5.181665,-8.054636,-6.8746133,-7.655939,-5.8391194,-7.7482266,-7.532738,-6.404526,-4.572702,-7.365652,-8.292667,-7.232964,-7.2996964,-4.766226,-10.384145,-8.435868,-7.6656938,-7.2536426,-3.6779187,-9.075748,-5.717481,-8.586606,-4.705855,-6.2760715,-10.495825,-8.937855,-5.864711,-5.616348,-7.4896092,-9.593972,-2.2146888,-4.305964,-3.6734786,-3.4604492,-3.144442,-11.630785,-8.245958,-8.027554,-10.760838,-7.3182263,-6.8906727,-6.517345,-10.026754,-7.4699364,-1.2421422,-6.7478685,-6.965828,-10.633267,-7.917243,-10.688542,-8.529186,-0.87230355,-5.161732,-5.6621194,-5.617599,-6.529368,-7.162922,-2.10847,-13.302964,-5.464183,-8.348969,-7.0237765,-7.4457693,-8.760744,-6.0852566,-2.9784136,-7.2024965,-7.942835,-7.8655205,-5.497003,-9.205209,-4.7411876,-15.920937,-4.521053,-9.566556,-6.281204,-2.3179388,-6.6387405,-7.267642,-7.6064053,-8.979855,-7.2655926,-6.804102,-9.190973,-8.094248,-5.9228563,-5.5371785,-3.8024998,-8.125472,-9.437279,-4.074741,-6.4966054,-6.274733,-3.6630723,-7.3771906,-8.3920965,-4.1380916,-7.417528,-12.292028,-0.6613706,-7.9093,-11.956707,-7.5510783,-4.8006015,-4.2424006,-7.2718487,-2.7413752,-8.20157,-7.1561203,-8.72731,-6.174597,-3.9588785,-6.5620303,-15.649354,-5.7312098,-1.8009921,-3.7203915,-8.918461,-9.494922,-7.16628,-5.4530516,-5.8359623,-7.057437,-2.729569,-10.401432,-3.8758929,-3.0535774,-2.737414,-7.3248386,-6.162083,-5.8030977,-6.5885625,-7.8921695,-11.468596,-7.7404685,-4.791212,-5.2153273,-3.843307,-2.5959306,-8.736146,-7.7762628,-11.175558,-5.6253414,-5.761738,-8.156702,-4.9247165,-5.4671655,-7.689925,-1.7543514,-4.026251,-4.858313,-4.4266353,-8.723606,-9.500172,-8.672149,-6.9936543,-7.3603144,-13.100609,-6.7789984,-10.453343,-2.3090854,-7.158999,-6.9420047,-5.5681133,-9.964206,-4.030611,-9.220161,-9.475395,-10.570118,-9.086678,-7.5856094,-5.7000804,-7.36542,-8.608665,-6.419897,-0.8777635,-8.1432,-7.190175,-3.3373687,-16.557257,-5.990428,-7.128578,-6.5763597,-5.2654357,-7.2862277,-4.364795,-10.333646,-4.85274,-5.6944823,-12.1867285,-5.9633675,-5.382953,-14.322457,-6.527935,-12.680431,-8.450539,-7.1068444,-2.4691744,-8.322949,-3.2025874,-2.8836105,-6.427078,-6.305489,-5.8917193,-9.784696,-9.189099,-9.059819,-13.289549,-8.46604,-8.442292,-7.5413117,-10.227959,-7.344745,-4.860336,-6.6467175,-7.703617,-3.5051217,-10.223495,-13.904899,-11.735391,-4.870599,-2.7015483,-2.1984828,-6.992192,-4.182465,-10.836991,-8.319879,-2.5104692],\"type\":\"scatter3d\"}],                        {\"template\":{\"data\":{\"histogram2dcontour\":[{\"type\":\"histogram2dcontour\",\"colorbar\":{\"outlinewidth\":0,\"ticks\":\"\"},\"colorscale\":[[0.0,\"#0d0887\"],[0.1111111111111111,\"#46039f\"],[0.2222222222222222,\"#7201a8\"],[0.3333333333333333,\"#9c179e\"],[0.4444444444444444,\"#bd3786\"],[0.5555555555555556,\"#d8576b\"],[0.6666666666666666,\"#ed7953\"],[0.7777777777777778,\"#fb9f3a\"],[0.8888888888888888,\"#fdca26\"],[1.0,\"#f0f921\"]]}],\"choropleth\":[{\"type\":\"choropleth\",\"colorbar\":{\"outlinewidth\":0,\"ticks\":\"\"}}],\"histogram2d\":[{\"type\":\"histogram2d\",\"colorbar\":{\"outlinewidth\":0,\"ticks\":\"\"},\"colorscale\":[[0.0,\"#0d0887\"],[0.1111111111111111,\"#46039f\"],[0.2222222222222222,\"#7201a8\"],[0.3333333333333333,\"#9c179e\"],[0.4444444444444444,\"#bd3786\"],[0.5555555555555556,\"#d8576b\"],[0.6666666666666666,\"#ed7953\"],[0.7777777777777778,\"#fb9f3a\"],[0.8888888888888888,\"#fdca26\"],[1.0,\"#f0f921\"]]}],\"heatmap\":[{\"type\":\"heatmap\",\"colorbar\":{\"outlinewidth\":0,\"ticks\":\"\"},\"colorscale\":[[0.0,\"#0d0887\"],[0.1111111111111111,\"#46039f\"],[0.2222222222222222,\"#7201a8\"],[0.3333333333333333,\"#9c179e\"],[0.4444444444444444,\"#bd3786\"],[0.5555555555555556,\"#d8576b\"],[0.6666666666666666,\"#ed7953\"],[0.7777777777777778,\"#fb9f3a\"],[0.8888888888888888,\"#fdca26\"],[1.0,\"#f0f921\"]]}],\"heatmapgl\":[{\"type\":\"heatmapgl\",\"colorbar\":{\"outlinewidth\":0,\"ticks\":\"\"},\"colorscale\":[[0.0,\"#0d0887\"],[0.1111111111111111,\"#46039f\"],[0.2222222222222222,\"#7201a8\"],[0.3333333333333333,\"#9c179e\"],[0.4444444444444444,\"#bd3786\"],[0.5555555555555556,\"#d8576b\"],[0.6666666666666666,\"#ed7953\"],[0.7777777777777778,\"#fb9f3a\"],[0.8888888888888888,\"#fdca26\"],[1.0,\"#f0f921\"]]}],\"contourcarpet\":[{\"type\":\"contourcarpet\",\"colorbar\":{\"outlinewidth\":0,\"ticks\":\"\"}}],\"contour\":[{\"type\":\"contour\",\"colorbar\":{\"outlinewidth\":0,\"ticks\":\"\"},\"colorscale\":[[0.0,\"#0d0887\"],[0.1111111111111111,\"#46039f\"],[0.2222222222222222,\"#7201a8\"],[0.3333333333333333,\"#9c179e\"],[0.4444444444444444,\"#bd3786\"],[0.5555555555555556,\"#d8576b\"],[0.6666666666666666,\"#ed7953\"],[0.7777777777777778,\"#fb9f3a\"],[0.8888888888888888,\"#fdca26\"],[1.0,\"#f0f921\"]]}],\"surface\":[{\"type\":\"surface\",\"colorbar\":{\"outlinewidth\":0,\"ticks\":\"\"},\"colorscale\":[[0.0,\"#0d0887\"],[0.1111111111111111,\"#46039f\"],[0.2222222222222222,\"#7201a8\"],[0.3333333333333333,\"#9c179e\"],[0.4444444444444444,\"#bd3786\"],[0.5555555555555556,\"#d8576b\"],[0.6666666666666666,\"#ed7953\"],[0.7777777777777778,\"#fb9f3a\"],[0.8888888888888888,\"#fdca26\"],[1.0,\"#f0f921\"]]}],\"mesh3d\":[{\"type\":\"mesh3d\",\"colorbar\":{\"outlinewidth\":0,\"ticks\":\"\"}}],\"scatter\":[{\"fillpattern\":{\"fillmode\":\"overlay\",\"size\":10,\"solidity\":0.2},\"type\":\"scatter\"}],\"parcoords\":[{\"type\":\"parcoords\",\"line\":{\"colorbar\":{\"outlinewidth\":0,\"ticks\":\"\"}}}],\"scatterpolargl\":[{\"type\":\"scatterpolargl\",\"marker\":{\"colorbar\":{\"outlinewidth\":0,\"ticks\":\"\"}}}],\"bar\":[{\"error_x\":{\"color\":\"#2a3f5f\"},\"error_y\":{\"color\":\"#2a3f5f\"},\"marker\":{\"line\":{\"color\":\"#E5ECF6\",\"width\":0.5},\"pattern\":{\"fillmode\":\"overlay\",\"size\":10,\"solidity\":0.2}},\"type\":\"bar\"}],\"scattergeo\":[{\"type\":\"scattergeo\",\"marker\":{\"colorbar\":{\"outlinewidth\":0,\"ticks\":\"\"}}}],\"scatterpolar\":[{\"type\":\"scatterpolar\",\"marker\":{\"colorbar\":{\"outlinewidth\":0,\"ticks\":\"\"}}}],\"histogram\":[{\"marker\":{\"pattern\":{\"fillmode\":\"overlay\",\"size\":10,\"solidity\":0.2}},\"type\":\"histogram\"}],\"scattergl\":[{\"type\":\"scattergl\",\"marker\":{\"colorbar\":{\"outlinewidth\":0,\"ticks\":\"\"}}}],\"scatter3d\":[{\"type\":\"scatter3d\",\"line\":{\"colorbar\":{\"outlinewidth\":0,\"ticks\":\"\"}},\"marker\":{\"colorbar\":{\"outlinewidth\":0,\"ticks\":\"\"}}}],\"scattermapbox\":[{\"type\":\"scattermapbox\",\"marker\":{\"colorbar\":{\"outlinewidth\":0,\"ticks\":\"\"}}}],\"scatterternary\":[{\"type\":\"scatterternary\",\"marker\":{\"colorbar\":{\"outlinewidth\":0,\"ticks\":\"\"}}}],\"scattercarpet\":[{\"type\":\"scattercarpet\",\"marker\":{\"colorbar\":{\"outlinewidth\":0,\"ticks\":\"\"}}}],\"carpet\":[{\"aaxis\":{\"endlinecolor\":\"#2a3f5f\",\"gridcolor\":\"white\",\"linecolor\":\"white\",\"minorgridcolor\":\"white\",\"startlinecolor\":\"#2a3f5f\"},\"baxis\":{\"endlinecolor\":\"#2a3f5f\",\"gridcolor\":\"white\",\"linecolor\":\"white\",\"minorgridcolor\":\"white\",\"startlinecolor\":\"#2a3f5f\"},\"type\":\"carpet\"}],\"table\":[{\"cells\":{\"fill\":{\"color\":\"#EBF0F8\"},\"line\":{\"color\":\"white\"}},\"header\":{\"fill\":{\"color\":\"#C8D4E3\"},\"line\":{\"color\":\"white\"}},\"type\":\"table\"}],\"barpolar\":[{\"marker\":{\"line\":{\"color\":\"#E5ECF6\",\"width\":0.5},\"pattern\":{\"fillmode\":\"overlay\",\"size\":10,\"solidity\":0.2}},\"type\":\"barpolar\"}],\"pie\":[{\"automargin\":true,\"type\":\"pie\"}]},\"layout\":{\"autotypenumbers\":\"strict\",\"colorway\":[\"#636efa\",\"#EF553B\",\"#00cc96\",\"#ab63fa\",\"#FFA15A\",\"#19d3f3\",\"#FF6692\",\"#B6E880\",\"#FF97FF\",\"#FECB52\"],\"font\":{\"color\":\"#2a3f5f\"},\"hovermode\":\"closest\",\"hoverlabel\":{\"align\":\"left\"},\"paper_bgcolor\":\"white\",\"plot_bgcolor\":\"#E5ECF6\",\"polar\":{\"bgcolor\":\"#E5ECF6\",\"angularaxis\":{\"gridcolor\":\"white\",\"linecolor\":\"white\",\"ticks\":\"\"},\"radialaxis\":{\"gridcolor\":\"white\",\"linecolor\":\"white\",\"ticks\":\"\"}},\"ternary\":{\"bgcolor\":\"#E5ECF6\",\"aaxis\":{\"gridcolor\":\"white\",\"linecolor\":\"white\",\"ticks\":\"\"},\"baxis\":{\"gridcolor\":\"white\",\"linecolor\":\"white\",\"ticks\":\"\"},\"caxis\":{\"gridcolor\":\"white\",\"linecolor\":\"white\",\"ticks\":\"\"}},\"coloraxis\":{\"colorbar\":{\"outlinewidth\":0,\"ticks\":\"\"}},\"colorscale\":{\"sequential\":[[0.0,\"#0d0887\"],[0.1111111111111111,\"#46039f\"],[0.2222222222222222,\"#7201a8\"],[0.3333333333333333,\"#9c179e\"],[0.4444444444444444,\"#bd3786\"],[0.5555555555555556,\"#d8576b\"],[0.6666666666666666,\"#ed7953\"],[0.7777777777777778,\"#fb9f3a\"],[0.8888888888888888,\"#fdca26\"],[1.0,\"#f0f921\"]],\"sequentialminus\":[[0.0,\"#0d0887\"],[0.1111111111111111,\"#46039f\"],[0.2222222222222222,\"#7201a8\"],[0.3333333333333333,\"#9c179e\"],[0.4444444444444444,\"#bd3786\"],[0.5555555555555556,\"#d8576b\"],[0.6666666666666666,\"#ed7953\"],[0.7777777777777778,\"#fb9f3a\"],[0.8888888888888888,\"#fdca26\"],[1.0,\"#f0f921\"]],\"diverging\":[[0,\"#8e0152\"],[0.1,\"#c51b7d\"],[0.2,\"#de77ae\"],[0.3,\"#f1b6da\"],[0.4,\"#fde0ef\"],[0.5,\"#f7f7f7\"],[0.6,\"#e6f5d0\"],[0.7,\"#b8e186\"],[0.8,\"#7fbc41\"],[0.9,\"#4d9221\"],[1,\"#276419\"]]},\"xaxis\":{\"gridcolor\":\"white\",\"linecolor\":\"white\",\"ticks\":\"\",\"title\":{\"standoff\":15},\"zerolinecolor\":\"white\",\"automargin\":true,\"zerolinewidth\":2},\"yaxis\":{\"gridcolor\":\"white\",\"linecolor\":\"white\",\"ticks\":\"\",\"title\":{\"standoff\":15},\"zerolinecolor\":\"white\",\"automargin\":true,\"zerolinewidth\":2},\"scene\":{\"xaxis\":{\"backgroundcolor\":\"#E5ECF6\",\"gridcolor\":\"white\",\"linecolor\":\"white\",\"showbackground\":true,\"ticks\":\"\",\"zerolinecolor\":\"white\",\"gridwidth\":2},\"yaxis\":{\"backgroundcolor\":\"#E5ECF6\",\"gridcolor\":\"white\",\"linecolor\":\"white\",\"showbackground\":true,\"ticks\":\"\",\"zerolinecolor\":\"white\",\"gridwidth\":2},\"zaxis\":{\"backgroundcolor\":\"#E5ECF6\",\"gridcolor\":\"white\",\"linecolor\":\"white\",\"showbackground\":true,\"ticks\":\"\",\"zerolinecolor\":\"white\",\"gridwidth\":2}},\"shapedefaults\":{\"line\":{\"color\":\"#2a3f5f\"}},\"annotationdefaults\":{\"arrowcolor\":\"#2a3f5f\",\"arrowhead\":0,\"arrowwidth\":1},\"geo\":{\"bgcolor\":\"white\",\"landcolor\":\"#E5ECF6\",\"subunitcolor\":\"white\",\"showland\":true,\"showlakes\":true,\"lakecolor\":\"white\"},\"title\":{\"x\":0.05},\"mapbox\":{\"style\":\"light\"}}},\"scene\":{\"domain\":{\"x\":[0.0,1.0],\"y\":[0.0,1.0]},\"xaxis\":{\"title\":{\"text\":\"x\"}},\"yaxis\":{\"title\":{\"text\":\"y\"}},\"zaxis\":{\"title\":{\"text\":\"z\"}}},\"legend\":{\"title\":{\"text\":\"label\"},\"tracegroupgap\":0},\"margin\":{\"t\":60},\"height\":800,\"width\":800},                        {\"responsive\": true}                    ).then(function(){\n",
              "                            \n",
              "var gd = document.getElementById('c84b02bd-c6dd-4175-9758-a10cee0104e1');\n",
              "var x = new MutationObserver(function (mutations, observer) {{\n",
              "        var display = window.getComputedStyle(gd).display;\n",
              "        if (!display || display === 'none') {{\n",
              "            console.log([gd, 'removed!']);\n",
              "            Plotly.purge(gd);\n",
              "            observer.disconnect();\n",
              "        }}\n",
              "}});\n",
              "\n",
              "// Listen for the removal of the full notebook cells\n",
              "var notebookContainer = gd.closest('#notebook-container');\n",
              "if (notebookContainer) {{\n",
              "    x.observe(notebookContainer, {childList: true});\n",
              "}}\n",
              "\n",
              "// Listen for the clearing of the current output cell\n",
              "var outputEl = gd.closest('.output');\n",
              "if (outputEl) {{\n",
              "    x.observe(outputEl, {childList: true});\n",
              "}}\n",
              "\n",
              "                        })                };                            </script>        </div>\n",
              "</body>\n",
              "</html>"
            ]
          },
          "metadata": {}
        }
      ]
    },
    {
      "cell_type": "code",
      "source": [],
      "metadata": {
        "id": "5LZ6mgpJKJPT"
      },
      "execution_count": null,
      "outputs": []
    }
  ]
}
