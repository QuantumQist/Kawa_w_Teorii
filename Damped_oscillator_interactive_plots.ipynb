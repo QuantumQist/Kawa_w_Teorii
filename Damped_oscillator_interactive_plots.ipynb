{
  "nbformat": 4,
  "nbformat_minor": 0,
  "metadata": {
    "colab": {
      "provenance": [],
      "authorship_tag": "ABX9TyOcqQYjWVRV32Oh83Eq/2bG",
      "include_colab_link": true
    },
    "kernelspec": {
      "name": "python3",
      "display_name": "Python 3"
    },
    "language_info": {
      "name": "python"
    }
  },
  "cells": [
    {
      "cell_type": "markdown",
      "metadata": {
        "id": "view-in-github",
        "colab_type": "text"
      },
      "source": [
        "<a href=\"https://colab.research.google.com/github/QuantumQist/Kawa_w_Teorii/blob/main/Damped_oscillator_interactive_plots.ipynb\" target=\"_parent\"><img src=\"https://colab.research.google.com/assets/colab-badge.svg\" alt=\"Open In Colab\"/></a>"
      ]
    },
    {
      "cell_type": "markdown",
      "source": [
        "# Interaktywne wykresy - tłumiony oscylator harmoniczny.\n",
        "\n",
        "Ten notatnik zawiera interaktywne wykresy wizualizujące tłumiony oscylator harmoniczny.\n",
        "\n",
        "Rozważamy równanie oscylatora w postaci\n",
        "$$\\ddot{x} + 2 \\gamma \\dot{x} + \\omega_0^2 x.$$\n",
        "Warunki początkowe to\n",
        "$$x(0) = X_0, \\quad v(0) = \\frac{dx}{dt}(0) = 0.$$\n",
        "\n",
        "Rozwiązania tych równań są opisywane przez następujące reżimy:\n",
        "\n",
        "* $\\gamma < \\omega_0$: drgania słabo tłumione $$x(t)=X_0 e^{-\\gamma t}\\left[ \\cos(\\omega t) + \\frac{\\gamma}{\\omega}\\sin(\\omega t) \\right],$$ gdzie $\\omega = \\sqrt{\\omega_0^2-\\gamma^2}$.\n",
        "* $\\gamma = \\omega_0$: drgania tłumione krytycznie $$x(t) = X_0\\left( 1+\\gamma t \\right)e^{-\\gamma t}.$$\n",
        "* $\\gamma > \\omega_0$: drgania tłumione silnie\n",
        "$$x(t)=\\frac{X_0}{2}\\left[ \\left( 1 - \\frac{\\gamma}{\\Gamma}\\right) e^{-(\\gamma+\\Gamma)t} + \\left( 1 + \\frac{\\gamma}{\\Gamma}\\right) e^{-(\\gamma-\\Gamma)t} \\right]$$\n",
        "\n"
      ],
      "metadata": {
        "id": "ktttVdot0x6A"
      }
    },
    {
      "cell_type": "code",
      "execution_count": 2,
      "metadata": {
        "id": "KN5wX3bB0tmx"
      },
      "outputs": [],
      "source": [
        "import numpy as np\n",
        "import matplotlib.pyplot as plt\n",
        "from ipywidgets import interact, FloatSlider\n",
        "\n",
        "# Time array\n",
        "t = np.linspace(0, 10, 1000)\n",
        "\n",
        "def damped_oscillator(X0, gamma, omega0):\n",
        "    if gamma < omega0:\n",
        "        omega = np.sqrt(omega0**2 - gamma**2)\n",
        "        envelope = X0 * np.exp(-gamma * t)\n",
        "        x = X0 * np.exp(-gamma * t) * (np.cos(omega * t) + (gamma / omega) * np.sin(omega * t))\n",
        "#        x = X0 * np.exp(-gamma * t) * (np.cos(omega * t))\n",
        "        label = \"Tłumienie słabe\"\n",
        "        plot_envelopes = True\n",
        "    elif gamma == omega0:\n",
        "        x = (X0 + gamma * X0 * t) * np.exp(-gamma * t)\n",
        "        label = \"Tłumienie krytyczne\"\n",
        "        plot_envelopes = False\n",
        "    else:\n",
        "        Gamma = np.sqrt(gamma**2 - omega0**2)\n",
        "        A = 0.5 * X0 * (1 + gamma / Gamma)\n",
        "        B = 0.5 * X0 * (1 - gamma / Gamma)\n",
        "        x = A * np.exp(-(gamma - Gamma) * t) + B * np.exp(-(gamma + Gamma) * t)\n",
        "        label = \"Tłumienie silne\"\n",
        "        plot_envelopes = False\n",
        "\n",
        "    plt.figure(figsize=(10, 5))\n",
        "    plt.plot(t, x, label=label)\n",
        "    if plot_envelopes:\n",
        "        plt.plot(t, envelope, label=\"Czynnik X₀exp(-γt)\", linestyle=\"--\", color = \"orange\")\n",
        "        plt.plot(t, -envelope, linestyle=\"--\", color = \"orange\")\n",
        "    plt.xlim(0, 10)\n",
        "    plt.ylim(-4.5, 4.5)\n",
        "    plt.title(f\"Oscylator tłumiony: {label}\")\n",
        "    plt.xlabel(\"Time t\")\n",
        "    plt.ylabel(\"x(t)\")\n",
        "    plt.grid(True)\n",
        "    plt.legend()\n",
        "    plt.show()\n",
        "\n",
        "interact(\n",
        "    damped_oscillator,\n",
        "    X0=FloatSlider(value=4.0, min=-4.0, max=4.0, step=0.1, description='X₀'),\n",
        "    gamma=FloatSlider(value=0.5, min=0.0, max=5.0, step=0.1, description='γ'),\n",
        "    omega0=FloatSlider(value=2.0, min=0.0, max=5.0, step=0.1, description='ω₀'),\n",
        ");"
      ]
    },
    {
      "cell_type": "markdown",
      "source": [
        "# Wykres - wykładnicze zaniki w silnym tłumieniu"
      ],
      "metadata": {
        "id": "VJa1f0Us-6RC"
      }
    },
    {
      "cell_type": "code",
      "source": [
        "# Time domain\n",
        "t = np.linspace(0, 10, 1000)\n",
        "\n",
        "# Plotting function\n",
        "def visualize_overdamped(gamma, Gamma):\n",
        "    if gamma <= Gamma:\n",
        "        plt.figure(figsize=(10, 5))\n",
        "        plt.axis('off')\n",
        "        plt.show()\n",
        "        return\n",
        "\n",
        "    decay1 = np.exp(-(gamma - Gamma) * t)\n",
        "    decay2 = np.exp(-(gamma + Gamma) * t)\n",
        "\n",
        "    a = 0.5 * (1 + gamma / Gamma)\n",
        "    b = 0.5 * (1 - gamma / Gamma)\n",
        "\n",
        "    plt.figure(figsize=(10, 5))\n",
        "    plt.plot(t, decay1, label=r'$e^{-(\\gamma - \\Gamma)t}$',linestyle = \":\", lw=2)\n",
        "    plt.plot(t, decay2, label=r'$e^{-(\\gamma + \\Gamma)t}$', linestyle = \":\", lw=2)\n",
        "    plt.plot(t, a * decay1 + b * decay2, label=\"Trajektoria\", lw=2)\n",
        "    plt.title(\"Zaniki wykładnicze w silnie tłumionym oscylatorze\")\n",
        "    plt.xlabel(\"Czas $t$\")\n",
        "    plt.ylabel(\"Funkcja\")\n",
        "    plt.grid(True)\n",
        "    plt.legend()\n",
        "    plt.show()\n",
        "\n",
        "interact(\n",
        "    visualize_overdamped,\n",
        "    gamma=FloatSlider(value=2.5, min=0.5, max=5.0, step=0.1, description='γ'),\n",
        "    Gamma=FloatSlider(value=0.01, min=0.01, max=4.9, step=0.1, description='Γ'),\n",
        "# )"
      ],
      "metadata": {
        "id": "Nh2sweL85diU"
      },
      "execution_count": 3,
      "outputs": []
    },
    {
      "cell_type": "code",
      "source": [],
      "metadata": {
        "id": "6uxsGPSA-_bF"
      },
      "execution_count": null,
      "outputs": []
    }
  ]
}